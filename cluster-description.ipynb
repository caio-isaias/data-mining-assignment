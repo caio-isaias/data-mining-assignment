{
 "cells": [
  {
   "cell_type": "markdown",
   "id": "dfe39285",
   "metadata": {},
   "source": [
    "## Load packages, data and functions"
   ]
  },
  {
   "cell_type": "markdown",
   "id": "52f9326a",
   "metadata": {},
   "source": [
    "### Packages"
   ]
  },
  {
   "cell_type": "code",
   "execution_count": null,
   "id": "46b76744",
   "metadata": {},
   "outputs": [],
   "source": [
    "import scipy.stats as ss"
   ]
  },
  {
   "cell_type": "markdown",
   "id": "74a503f3",
   "metadata": {},
   "source": [
    "### Functions"
   ]
  },
  {
   "cell_type": "code",
   "execution_count": null,
   "id": "aaae80de",
   "metadata": {},
   "outputs": [],
   "source": [
    "# função frequency report\n",
    "def frequency_report(data,parameter, n):\n",
    "    most_frequent = data[parameter].value_counts()\n",
    "    temp = most_frequent.head(n)\n",
    "    \n",
    "    titulos = list(temp.index)\n",
    "    counts = list(temp)\n",
    "    percent = list(round(temp/sum(most_frequent)*100,2))\n",
    "    zipped = list(zip(titulos,counts,percent))\n",
    "    \n",
    "    df_ocupation = pd.DataFrame(data = zipped, columns= [\"Titulo\",\"Count\",\"Porcentagem (%)\"])\n",
    "    \n",
    "    return(df_ocupation)"
   ]
  },
  {
   "cell_type": "code",
   "execution_count": null,
   "id": "31f5fe89",
   "metadata": {},
   "outputs": [],
   "source": [
    "# correlation for categorical data\n",
    "def cramers_corrected_stat(confusion_matrix):\n",
    "    \"\"\" calculate Cramers V statistic for categorial-categorial association.\n",
    "        uses correction from Bergsma and Wicher, \n",
    "        Journal of the Korean Statistical Society 42 (2013): 323-328\n",
    "    \"\"\"\n",
    "    chi2 = ss.chi2_contingency(confusion_matrix)[0]\n",
    "    n = confusion_matrix.sum().sum()\n",
    "    phi2 = chi2/n\n",
    "    r,k = confusion_matrix.shape\n",
    "    phi2corr = max(0, phi2 - ((k-1)*(r-1))/(n-1))    \n",
    "    rcorr = r - ((r-1)**2)/(n-1)\n",
    "    kcorr = k - ((k-1)**2)/(n-1)\n",
    "    return np.sqrt(phi2corr / min( (kcorr-1), (rcorr-1)))"
   ]
  },
  {
   "cell_type": "markdown",
   "id": "217ee442",
   "metadata": {},
   "source": [
    "### Data"
   ]
  },
  {
   "cell_type": "code",
   "execution_count": null,
   "id": "a02443e4",
   "metadata": {},
   "outputs": [],
   "source": [
    "# load data"
   ]
  },
  {
   "cell_type": "markdown",
   "id": "75f4e21c",
   "metadata": {},
   "source": [
    "## Population description"
   ]
  },
  {
   "cell_type": "code",
   "execution_count": null,
   "id": "7096b42d",
   "metadata": {},
   "outputs": [],
   "source": [
    "# proporção de etnias "
   ]
  },
  {
   "cell_type": "markdown",
   "id": "2572505c",
   "metadata": {},
   "source": [
    "## Cluster description"
   ]
  },
  {
   "cell_type": "code",
   "execution_count": null,
   "id": "9e97224c",
   "metadata": {},
   "outputs": [],
   "source": []
  },
  {
   "cell_type": "markdown",
   "id": "7388d8f0",
   "metadata": {},
   "source": [
    "## Variable association"
   ]
  },
  {
   "cell_type": "markdown",
   "id": "ed4f084b",
   "metadata": {},
   "source": [
    "Cramér’s V nominal association test"
   ]
  },
  {
   "cell_type": "code",
   "execution_count": null,
   "id": "9e8691b9",
   "metadata": {},
   "outputs": [],
   "source": [
    "cols = [\"RACACOR\", \"CODOCUPMAE\", \"ESCMAE\",\"MESPRENAT\",\"CONSULTAS\",\"parto_prematuro\",\"APGAR\"]\n",
    "corrM = np.zeros((len(cols),len(cols)))\n",
    "# there's probably a nice pandas way to do this\n",
    "for col1, col2 in itertools.combinations(cols, 2):\n",
    "    idx1, idx2 = cols.index(col1), cols.index(col2)\n",
    "    corrM[idx1, idx2] = cramers_corrected_stat(pd.crosstab(samp[col1], samp[col2]))\n",
    "    corrM[idx2, idx1] = corrM[idx1, idx2]"
   ]
  },
  {
   "cell_type": "code",
   "execution_count": null,
   "id": "096075c4",
   "metadata": {},
   "outputs": [],
   "source": [
    "corr = pd.DataFrame(corrM, index=cols, columns=cols)\n",
    "fig, ax = plt.subplots(figsize=(7, 6))\n",
    "ax = sns.heatmap(corr, annot=True, ax=ax); ax.set_title(\"Cramer V Correlation between Variables\")\n",
    "ax\n",
    "\n",
    "plt.show()"
   ]
  }
 ],
 "metadata": {
  "kernelspec": {
   "display_name": "Python 3 (ipykernel)",
   "language": "python",
   "name": "python3"
  },
  "language_info": {
   "codemirror_mode": {
    "name": "ipython",
    "version": 3
   },
   "file_extension": ".py",
   "mimetype": "text/x-python",
   "name": "python",
   "nbconvert_exporter": "python",
   "pygments_lexer": "ipython3",
   "version": "3.9.5"
  }
 },
 "nbformat": 4,
 "nbformat_minor": 5
}

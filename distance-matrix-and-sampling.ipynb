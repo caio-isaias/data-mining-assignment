{
 "cells": [
  {
   "cell_type": "markdown",
   "id": "024a6c85",
   "metadata": {},
   "source": [
    "## Load packages & data"
   ]
  },
  {
   "cell_type": "markdown",
   "id": "b37da9a8",
   "metadata": {},
   "source": [
    "### Packages"
   ]
  },
  {
   "cell_type": "code",
   "execution_count": 1,
   "id": "9f488d55",
   "metadata": {},
   "outputs": [],
   "source": [
    "import numpy as np\n",
    "import pandas as pd\n",
    "from pandas_profiling import ProfileReport\n",
    "\n",
    "import time\n",
    "import Categorical_similarity_measures as sim\n",
    "import kmedoids\n",
    "\n",
    "from scipy.spatial.distance import squareform\n",
    "from scipy.spatial.distance import pdist, jaccard\n",
    "\n",
    "from sklearn import preprocessing"
   ]
  },
  {
   "cell_type": "code",
   "execution_count": 3,
   "id": "7d3e9a4c",
   "metadata": {},
   "outputs": [],
   "source": [
    "# função frequency report\n",
    "def frequency_report(data,parameter, n):\n",
    "    most_frequent = data[parameter].value_counts()\n",
    "    temp = most_frequent.head(n)\n",
    "    \n",
    "    titulos = list(temp.index)\n",
    "    counts = list(temp)\n",
    "    percent = list(round(temp/sum(most_frequent)*100,2))\n",
    "    zipped = list(zip(titulos,counts,percent))\n",
    "    \n",
    "    df_ocupation = pd.DataFrame(data = zipped, columns= [\"Titulo\",\"Count\",\"Porcentagem (%)\"])\n",
    "    \n",
    "    return(df_ocupation)"
   ]
  },
  {
   "cell_type": "markdown",
   "id": "175a9ff8",
   "metadata": {},
   "source": [
    "### Data"
   ]
  },
  {
   "cell_type": "code",
   "execution_count": null,
   "id": "6a2ec289",
   "metadata": {},
   "outputs": [],
   "source": [
    "path = \"~/Documents/jupyter-workplace/data-mining-assignment/reformed_all_data.csv\"\n",
    "data = pd.read_csv(path, index_col=0)\n",
    "\n",
    "path_cbo = \"~/Documents/jupyter-workplace/data-mining-assignment/CBO2002.csv\"\n",
    "cbo = pd.read_csv(path_cbo, index_col=0, encoding = 'unicode_escape', engine ='python')"
   ]
  },
  {
   "cell_type": "code",
   "execution_count": null,
   "id": "39889ca4",
   "metadata": {
    "scrolled": true
   },
   "outputs": [],
   "source": [
    "data.head(n = 10)"
   ]
  },
  {
   "cell_type": "markdown",
   "id": "5f4eab3e",
   "metadata": {},
   "source": [
    "## Preprocessing"
   ]
  },
  {
   "cell_type": "code",
   "execution_count": null,
   "id": "5f0aa3da",
   "metadata": {},
   "outputs": [],
   "source": [
    "# selecionando brancas, pardas e pretas\n",
    "data_cluster = data[((data['RACACOR'] == 'Parda') | (data['RACACOR'] == 'Preta') | (data['RACACOR'] == 'Branca'))]\n",
    "\n",
    "data_cluster = data_cluster.reset_index()\n",
    "\n",
    "data_cluster = data_cluster.drop(\"index\", axis=1)"
   ]
  },
  {
   "cell_type": "code",
   "execution_count": null,
   "id": "39e2742b",
   "metadata": {},
   "outputs": [],
   "source": [
    "# substituir preta e pardar por preta/parda\n",
    "data_cluster['RACACOR'] = data_cluster['RACACOR'].map({'Branca':'Branca','Preta':'Preta/Parda',\n",
    "                                                       'Parda':'Preta/Parda'})\n",
    "raca_dtype = pd.CategoricalDtype(categories=['Branca', 'Preta/Parda'], \n",
    "                                   ordered=False)\n",
    "data_cluster['RACACOR'].astype(raca_dtype)"
   ]
  },
  {
   "cell_type": "code",
   "execution_count": null,
   "id": "bc79ba26",
   "metadata": {},
   "outputs": [],
   "source": [
    "# only relevant ocupations\n",
    "table1 = frequency_report(data = data, parameter = 'CODOCUPMAE',n = 10)\n",
    "table2 = frequency_report(data = data_branca[data_branca['ESCMAE'] == '12 e mais'],\n",
    "                          parameter = 'CODOCUPMAE',n = 10)\n",
    "table3 = frequency_report(data = data_pp[data_pp['ESCMAE'] != '12 e mais'],\n",
    "                          parameter = 'CODOCUPMAE',n = 10)\n",
    "\n",
    "table = list(table1[\"Titulo\"])+list(table2[\"Titulo\"])+list(table3[\"Titulo\"])\n",
    "\n",
    "top_ocupations = list(set(table))\n",
    "\n",
    "data_cluster = data_cluster[data_cluster['CODOCUPMAE'].isin(top_ocupations)]\n",
    "data_cluster.shape"
   ]
  },
  {
   "cell_type": "code",
   "execution_count": null,
   "id": "bca37ea7",
   "metadata": {},
   "outputs": [],
   "source": [
    "# \"Professor da educação de jovens e adultos...\" == \"Professor\"\n",
    "data_cluster['CODOCUPMAE'] = data_cluster['CODOCUPMAE'].replace(['Professor da  educação de jovens e adultos do ensino fundamental (primeira a quarta série)'],\n",
    "                                                                 'Professor')\n",
    "# \"Empregado doméstico diarista\" == \"Empregado doméstico nos serviços gerais\"\n",
    "data_cluster['CODOCUPMAE'] = data_cluster['CODOCUPMAE'].replace(['Empregado  doméstico  nos serviços gerais','Empregado doméstico diarista'],\n",
    "                                                                'Empregado doméstico')\n"
   ]
  },
  {
   "cell_type": "code",
   "execution_count": null,
   "id": "d6649a91",
   "metadata": {},
   "outputs": [],
   "source": [
    "frequency_report(data_cluster, parameter='CODOCUPMAE', n=20)"
   ]
  },
  {
   "cell_type": "code",
   "execution_count": null,
   "id": "ec7201c5",
   "metadata": {},
   "outputs": [],
   "source": [
    "# high relative remuneration\n",
    "high = ['Psicólogo clínico','Enfermeiro','Advogado']\n",
    "low = ['Operador de caixa','Empregado doméstico','Vendedor de comércio varejista']\n",
    "\n",
    "selected_ocupations = high+low\n",
    "data_cluster = data_cluster[data_cluster['CODOCUPMAE'].isin(selected_ocupations)]"
   ]
  },
  {
   "cell_type": "code",
   "execution_count": null,
   "id": "8f9194a3",
   "metadata": {},
   "outputs": [],
   "source": [
    "data_cluster.shape"
   ]
  },
  {
   "cell_type": "markdown",
   "id": "d6cadf65",
   "metadata": {},
   "source": [
    "### Sampling & Distance Matrix"
   ]
  },
  {
   "cell_type": "markdown",
   "id": "51588f7b",
   "metadata": {},
   "source": [
    "Sampling while balacing ocupations..."
   ]
  },
  {
   "cell_type": "code",
   "execution_count": null,
   "id": "ca804b71",
   "metadata": {},
   "outputs": [],
   "source": [
    "sample1 = data_cluster[data_cluster['CODOCUPMAE'] == 'Vendedor de comércio varejista'].sample(n = 500) #Vendedor de comércio varejista\n",
    "sample2 = data_cluster[data_cluster['CODOCUPMAE'] == 'Operador de caixa'].sample(n = 500) #Operador de caixa\n",
    "sample3 = data_cluster[data_cluster['CODOCUPMAE'] == 'Empregado doméstico'].sample(n = 500) #Empregado doméstico\n",
    "sample4 = data_cluster[data_cluster['CODOCUPMAE'] == 'Advogado'].sample(n = 500) #Advogado\n",
    "sample5 = data_cluster[data_cluster['CODOCUPMAE'] == 'Enfermeiro'].sample(n = 500) #Enfermeiro\n",
    "sample6 = data_cluster[data_cluster['CODOCUPMAE'] == 'Psicólogo clínico'].sample(n = 500) #Psicólogo clínico\n",
    "\n",
    "frames = [sample1,sample2,sample3,sample4,sample5,sample6]\n",
    "samp = pd.concat(frames)\n",
    "\n",
    "samp = samp.reset_index()\n",
    "\n",
    "samp['RACACOR'].value_counts()"
   ]
  },
  {
   "cell_type": "code",
   "execution_count": null,
   "id": "76b9a03c",
   "metadata": {},
   "outputs": [],
   "source": [
    "samp.shape"
   ]
  },
  {
   "cell_type": "code",
   "execution_count": 4,
   "id": "03233508",
   "metadata": {},
   "outputs": [],
   "source": [
    "# save sample\n",
    "samp.to_csv(\"final_sample3000.csv\")"
   ]
  },
  {
   "cell_type": "markdown",
   "id": "20005a72",
   "metadata": {},
   "source": [
    "#### Jaccard distance"
   ]
  },
  {
   "cell_type": "code",
   "execution_count": 5,
   "id": "6681bdc3",
   "metadata": {},
   "outputs": [],
   "source": [
    "# perfil materno\n",
    "perfil_materno = ['ESCMAE','RACACOR','CODOCUPMAE']"
   ]
  },
  {
   "cell_type": "code",
   "execution_count": 6,
   "id": "e023eb6c",
   "metadata": {
    "scrolled": true
   },
   "outputs": [],
   "source": [
    "# codificar elementos antes de rodar o jaccard\n",
    "ocupationenc = preprocessing.LabelEncoder()\n",
    "ocupationenc.fit(samp['CODOCUPMAE'])\n",
    "enc_ocupation_mapping = dict(zip(ocupationenc.classes_, ocupationenc.transform(ocupationenc.classes_)))\n",
    "samp['CODOCUPMAE'] = ocupationenc.transform(samp['CODOCUPMAE'])\n",
    "\n",
    "racialenc = preprocessing.LabelEncoder()\n",
    "racialenc.fit(samp['RACACOR'])\n",
    "enc_racial_mapping = dict(zip(racialenc.classes_, racialenc.transform(racialenc.classes_)))\n",
    "samp['RACACOR'] = racialenc.transform(samp['RACACOR'])\n",
    "\n",
    "escolenc = preprocessing.LabelEncoder()\n",
    "escolenc.fit(samp['ESCMAE'])\n",
    "enc_escolaridade_mapping = dict(zip(escolenc.classes_, escolenc.transform(escolenc.classes_)))\n",
    "samp['ESCMAE'] = escolenc.transform(samp['ESCMAE'])\n"
   ]
  },
  {
   "cell_type": "code",
   "execution_count": 7,
   "id": "f2651f7c",
   "metadata": {},
   "outputs": [
    {
     "name": "stdout",
     "output_type": "stream",
     "text": [
      "time elapsed:  0.0019835670789082843  minutos\n"
     ]
    }
   ],
   "source": [
    "# Jaccard\n",
    "start = time.time() # start timer\n",
    "distmat_jaccard = pdist(samp[perfil_materno], 'jaccard')\n",
    "distmat_jaccard = pd.DataFrame(squareform(distmat_jaccard), index=samp.index,\n",
    "                               columns= samp.index)\n",
    "end = time.time() # end timer\n",
    "\n",
    "print(\"time elapsed: \", (end - start)/60, \" minutos\")"
   ]
  },
  {
   "cell_type": "code",
   "execution_count": 37,
   "id": "025bb21b",
   "metadata": {},
   "outputs": [],
   "source": [
    "# save distance matrix\n",
    "distmat_jaccard.to_csv(\"jaccard-distance-matrix.csv\")"
   ]
  },
  {
   "cell_type": "code",
   "execution_count": 26,
   "id": "9f53fcca",
   "metadata": {},
   "outputs": [],
   "source": [
    "# decodificar elementos fatorizados\n",
    "\n",
    "samp['CODOCUPMAE'] = list(ocupationenc.inverse_transform(samp['CODOCUPMAE']))\n",
    "samp['RACACOR'] = list(racialenc.inverse_transform(samp['RACACOR']))\n",
    "samp['ESCMAE'] = list(escolenc.inverse_transform(samp['ESCMAE']))"
   ]
  },
  {
   "cell_type": "markdown",
   "id": "94c7d29a",
   "metadata": {},
   "source": [
    "#### Overlap similarity"
   ]
  },
  {
   "cell_type": "code",
   "execution_count": 8,
   "id": "85ffc1cd",
   "metadata": {},
   "outputs": [
    {
     "name": "stdout",
     "output_type": "stream",
     "text": [
      "time elapsed:  8.633101717631023  minutos\n"
     ]
    }
   ],
   "source": [
    "# Overlap\n",
    "\n",
    "start = time.time() # start timer\n",
    "similarity = sim.Overlap(samp[perfil_materno].to_numpy())\n",
    "distmat_overlap = pd.DataFrame(similarity)\n",
    "end = time.time() # end timer\n",
    "\n",
    "print(\"time elapsed: \", (end - start)/60, \" minutos\")"
   ]
  },
  {
   "cell_type": "code",
   "execution_count": 9,
   "id": "e25c49f8",
   "metadata": {},
   "outputs": [],
   "source": [
    "# save distance matrix\n",
    "distmat_overlap.to_csv(\"overlap-distance-matrix.csv\")\n",
    "\n",
    "#path4 = \"~/Documents/jupyter-workplace/data-mining-assignment/overlap-distance-matrix.csv\"\n",
    "#distmat_overlap = pd.read_csv(path4, index_col=0)"
   ]
  }
 ],
 "metadata": {
  "kernelspec": {
   "display_name": "Python 3 (ipykernel)",
   "language": "python",
   "name": "python3"
  },
  "language_info": {
   "codemirror_mode": {
    "name": "ipython",
    "version": 3
   },
   "file_extension": ".py",
   "mimetype": "text/x-python",
   "name": "python",
   "nbconvert_exporter": "python",
   "pygments_lexer": "ipython3",
   "version": "3.9.5"
  }
 },
 "nbformat": 4,
 "nbformat_minor": 5
}

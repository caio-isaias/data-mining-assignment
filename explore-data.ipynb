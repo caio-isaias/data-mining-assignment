{
 "cells": [
  {
   "cell_type": "markdown",
   "id": "024a6c85",
   "metadata": {},
   "source": [
    "## Load packages & data"
   ]
  },
  {
   "cell_type": "markdown",
   "id": "b37da9a8",
   "metadata": {},
   "source": [
    "### Packages"
   ]
  },
  {
   "cell_type": "code",
   "execution_count": 39,
   "id": "9f488d55",
   "metadata": {},
   "outputs": [],
   "source": [
    "import numpy as np\n",
    "import pandas as pd\n",
    "from pandas_profiling import ProfileReport\n",
    "import seaborn as sns\n",
    "import tkinter\n",
    "import matplotlib\n",
    "import matplotlib.pyplot as plt\n",
    "matplotlib.use('TkAgg')"
   ]
  },
  {
   "cell_type": "markdown",
   "id": "175a9ff8",
   "metadata": {},
   "source": [
    "### Data"
   ]
  },
  {
   "cell_type": "code",
   "execution_count": 2,
   "id": "6a2ec289",
   "metadata": {},
   "outputs": [],
   "source": [
    "path1 = \"~/Documents/jupyter-workplace/data-mining-assignment/c_reformed_data.csv\"\n",
    "data_adult = pd.read_csv(path1, index_col=0)\n",
    "\n",
    "path2 = \"~/Documents/jupyter-workplace/data-mining-assignment/c_reformed_data_adolescency.csv\"\n",
    "data_ad = pd.read_csv(path2, index_col=0)\n",
    "\n",
    "path3 = \"~/Documents/jupyter-workplace/data-mining-assignment/c_reformed_all_data.csv\"\n",
    "data = pd.read_csv(path3, index_col=0)\n",
    "\n",
    "path_cbo = \"~/Documents/jupyter-workplace/data-mining-assignment/CBO2002.csv\"\n",
    "cbo = pd.read_csv(path_cbo, index_col=0, encoding = 'unicode_escape', engine ='python')"
   ]
  },
  {
   "cell_type": "code",
   "execution_count": null,
   "id": "39889ca4",
   "metadata": {
    "scrolled": true
   },
   "outputs": [],
   "source": [
    "data.head(n = 10)"
   ]
  },
  {
   "cell_type": "markdown",
   "id": "b04656d7",
   "metadata": {},
   "source": [
    "## Variables profile report"
   ]
  },
  {
   "cell_type": "code",
   "execution_count": null,
   "id": "aa4a1f9a",
   "metadata": {
    "scrolled": true
   },
   "outputs": [],
   "source": [
    "profile_variables = ProfileReport(data, title=\"Pandas Profiling Report - Variables description\", minimal=True)\n",
    "\n",
    "profile_variables.to_file(\"profile_variables.html\")"
   ]
  },
  {
   "cell_type": "code",
   "execution_count": null,
   "id": "42f518d5",
   "metadata": {
    "scrolled": true
   },
   "outputs": [],
   "source": [
    "# separar por etnia\n",
    "\n",
    "# parda, preto, branco, indigena, amarelo\n",
    "\n",
    "data_branco = data[data['RACACOR'] == 'Branca']\n",
    "profile_variables = ProfileReport(data_branco, title=\"Pandas Profiling Report - Gestantes brancas\", minimal=True)\n",
    "profile_variables.to_file(\"gestantes-brancas.html\")\n",
    "\n",
    "data_preto = data[data['RACACOR'] == 'Preta']\n",
    "profile_variables = ProfileReport(data_preto, title=\"Pandas Profiling Report - Gestantes pretas\", minimal=True)\n",
    "profile_variables.to_file(\"gestantes-pretas.html\")\n",
    "\n",
    "data_pardo = data[data['RACACOR'] == 'Parda']\n",
    "profile_variables = ProfileReport(data_pardo, title=\"Pandas Profiling Report - Gestantes pardas\", minimal=True)\n",
    "profile_variables.to_file(\"gestantes-pardas.html\")\n",
    "\n",
    "data_ind = data[data['RACACOR'] == 'Indigina']\n",
    "profile_variables = ProfileReport(data_ind, title=\"Pandas Profiling Report - Gestantes indigenas\", minimal=True)\n",
    "profile_variables.to_file(\"gestantes-indigenas.html\")\n",
    "\n",
    "data_ama = data[data['RACACOR'] == 'Amarela']\n",
    "profile_variables = ProfileReport(data_ama, title=\"Pandas Profiling Report - Gestantes amarelas\", minimal=True)\n",
    "profile_variables.to_file(\"gestantes-amarelas.html\")"
   ]
  },
  {
   "cell_type": "code",
   "execution_count": null,
   "id": "2ffa3765",
   "metadata": {
    "scrolled": true
   },
   "outputs": [],
   "source": [
    "# separar por escolaridade + etnia\n",
    "\n",
    "# (branca + 12 a mais) (parda - 12 a mais) (preta - 12 a mais)\n",
    "\n",
    "data_branco = data[(data['RACACOR'] == 'Branca') & (data['ESCMAE'] == '12 e mais')]\n",
    "profile_variables = ProfileReport(data_branco, title=\"Pandas Profiling Report - Gestantes brancas e escolarizadas\", minimal=True)\n",
    "profile_variables.to_file(\"gestantes-brancas-esc.html\")\n",
    "\n",
    "data_preto = data[(data['RACACOR'] == 'Preta') & (data['ESCMAE'] != '12 e mais') & (data['ESCMAE'] != '8 a 11 anos')]\n",
    "profile_variables = ProfileReport(data_preto, title=\"Pandas Profiling Report - Gestantes pretas e não escolarizadas\", minimal=True)\n",
    "profile_variables.to_file(\"gestantes-pretas-esc.html\")\n",
    "\n",
    "data_pardo = data[(data['RACACOR'] == 'Parda') & (data['ESCMAE'] != '12 e mais') & (data['ESCMAE'] != '8 a 11 anos')]\n",
    "profile_variables = ProfileReport(data_pardo, title=\"Pandas Profiling Report - Gestantes pardas e não escolarizadas\", minimal=True)\n",
    "profile_variables.to_file(\"gestantes-pardas-esc.html\")"
   ]
  },
  {
   "cell_type": "code",
   "execution_count": null,
   "id": "d8ef717a",
   "metadata": {
    "scrolled": true
   },
   "outputs": [],
   "source": [
    "# separar por anomalia == sim\n",
    "\n",
    "data_anom = data[data['IDANOMAL'] == 'Sim']\n",
    "profile_variables = ProfileReport(data_anom, title=\"Pandas Profiling Report - Anomaly\", minimal=True)\n",
    "profile_variables.to_file(\"gestantes-anomaly.html\")"
   ]
  },
  {
   "cell_type": "code",
   "execution_count": null,
   "id": "a3228d89",
   "metadata": {},
   "outputs": [],
   "source": [
    "# gravidez na adolescencia\n",
    "profile_variables_ad = ProfileReport(data_ad, title=\"Pandas Profiling Report - Gravidez na Adolescencia\", minimal=True)\n",
    "profile_variables_ad.to_file(\"profile_variables_adolescency.html\")"
   ]
  },
  {
   "cell_type": "code",
   "execution_count": null,
   "id": "041cba4e",
   "metadata": {},
   "outputs": [],
   "source": [
    "# desfecho negativo\n",
    "\n",
    "data_desf = data[(data['parto_prematuro'] != 'Normal') & \n",
    "                 (data['APGAR'] != 'Normal')]\n",
    "\n",
    "profile_variables_ad = ProfileReport(data_desf, title=\"Pandas Profiling Report - Desfecho negativo\", minimal=True)\n",
    "profile_variables_ad.to_file(\"profile_negative_outcome.html\")"
   ]
  },
  {
   "cell_type": "markdown",
   "id": "e5926882",
   "metadata": {},
   "source": [
    "## Explorative Analysis"
   ]
  },
  {
   "cell_type": "code",
   "execution_count": 46,
   "id": "3f8cd980",
   "metadata": {},
   "outputs": [],
   "source": [
    "# stratification\n",
    "\n",
    "data_branca = data[(data['RACACOR'] == 'Branca')]\n",
    "data_preta = data[(data['RACACOR'] == 'Preta')]\n",
    "data_pardo = data[(data['RACACOR'] == 'Parda')]\n",
    "\n",
    "esc_branca = data[(data['RACACOR'] == 'Branca') & (data['ESCMAE'] == '12 e mais')]\n",
    "esc_preta = data[(data['RACACOR'] == 'Preta') & (data['ESCMAE'] != '12 e mais')]\n",
    "esc_pardo = data[(data['RACACOR'] == 'Parda') & (data['ESCMAE'] != '12 e mais')]"
   ]
  },
  {
   "cell_type": "markdown",
   "id": "ee2a25cb",
   "metadata": {},
   "source": [
    "### Descreptive analysis\n",
    "Geral / Por etinia / Por escolaridade\n",
    "\n",
    "**Perfil da gestante**\n",
    "- Perfil de ocupação\n",
    "- Perfil de escolaridade\n",
    "- Perfil de estado civil\n",
    "\n",
    "**Perfil do desfecho ao nascimento**\n",
    "- APGAR\n",
    "- Prematuridade\n",
    "\n",
    "\n",
    "---------------------------\n",
    "obs.\n",
    "**ADICIONAR PORCENTAGEM EM RELAÇÃO TOTAL!**"
   ]
  },
  {
   "cell_type": "code",
   "execution_count": 69,
   "id": "a72c5014",
   "metadata": {},
   "outputs": [],
   "source": [
    "# geral\n",
    "most_frequent = data['CODOCUPMAE'].value_counts()\n",
    "temp = most_frequent.head(n = 20)\n",
    "\n",
    "titulos = list(temp.index)\n",
    "counts = list(temp)\n",
    "percent = list(temp/sum(most_frequent)*100)\n",
    "zipped = list(zip(titulos,counts,percent))\n",
    "\n",
    "df_ocupation = pd.DataFrame(data = zipped, columns= [\"Titulo\",\"Count\",\"Porcentagem (%)\"])"
   ]
  },
  {
   "cell_type": "code",
   "execution_count": 70,
   "id": "2b98fe3b",
   "metadata": {},
   "outputs": [
    {
     "name": "stderr",
     "output_type": "stream",
     "text": [
      "/home/caio/miniconda3/envs/r-jupyter/lib/python3.9/site-packages/seaborn/axisgrid.py:88: UserWarning: Tight layout not applied. The left and right margins cannot be made large enough to accommodate all axes decorations. \n",
      "  self._figure.tight_layout(*args, **kwargs)\n"
     ]
    }
   ],
   "source": [
    "sns.set_theme(style=\"darkgrid\")\n",
    "\n",
    "ax = sns.catplot(y=\"Titulo\", x = \"Porcentagem (%)\", kind=\"bar\", data=df_ocupation)\n",
    "\n",
    "plt.show()"
   ]
  },
  {
   "cell_type": "code",
   "execution_count": 71,
   "id": "fc6fbb50",
   "metadata": {},
   "outputs": [],
   "source": [
    "# Gestante branca\n",
    "most_frequent = data_branca['CODOCUPMAE'].value_counts()\n",
    "temp = most_frequent.head(n = 20)\n",
    "\n",
    "titulos = list(temp.index)\n",
    "counts = list(temp)\n",
    "percent = list(temp/sum(most_frequent)*100)\n",
    "zipped = list(zip(titulos,counts,percent))\n",
    "\n",
    "df_ocupation = pd.DataFrame(data = zipped, columns= [\"Titulo\",\"Count\",\"Porcentagem (%)\"])"
   ]
  },
  {
   "cell_type": "code",
   "execution_count": 72,
   "id": "55ef80c2",
   "metadata": {
    "scrolled": true
   },
   "outputs": [
    {
     "name": "stderr",
     "output_type": "stream",
     "text": [
      "/home/caio/miniconda3/envs/r-jupyter/lib/python3.9/site-packages/seaborn/axisgrid.py:88: UserWarning: Tight layout not applied. The left and right margins cannot be made large enough to accommodate all axes decorations. \n",
      "  self._figure.tight_layout(*args, **kwargs)\n"
     ]
    }
   ],
   "source": [
    "sns.set_theme(style=\"darkgrid\")\n",
    "\n",
    "ax = sns.catplot(y=\"Titulo\", x = \"Porcentagem (%)\", kind=\"bar\", data=df_ocupation)\n",
    "\n",
    "plt.show()"
   ]
  },
  {
   "cell_type": "code",
   "execution_count": 73,
   "id": "e27d9ab5",
   "metadata": {},
   "outputs": [],
   "source": [
    "# Gestante preta e parda\n",
    "frames = [data_pardo,data_preta]\n",
    "data_pp =  pd.concat(frames)\n",
    "\n",
    "most_frequent = data_pp['CODOCUPMAE'].value_counts()\n",
    "temp = most_frequent.head(n = 20)\n",
    "\n",
    "titulos = list(temp.index)\n",
    "counts = list(temp)\n",
    "percent = list(temp/sum(most_frequent)*100)\n",
    "zipped = list(zip(titulos,counts,percent))\n",
    "\n",
    "df_ocupation = pd.DataFrame(data = zipped, columns= [\"Titulo\",\"Count\",\"Porcentagem (%)\"])"
   ]
  },
  {
   "cell_type": "code",
   "execution_count": 74,
   "id": "5139c5b6",
   "metadata": {},
   "outputs": [
    {
     "name": "stderr",
     "output_type": "stream",
     "text": [
      "/home/caio/miniconda3/envs/r-jupyter/lib/python3.9/site-packages/seaborn/axisgrid.py:88: UserWarning: Tight layout not applied. The left and right margins cannot be made large enough to accommodate all axes decorations. \n",
      "  self._figure.tight_layout(*args, **kwargs)\n"
     ]
    }
   ],
   "source": [
    "sns.set_theme(style=\"darkgrid\")\n",
    "\n",
    "ax = sns.catplot(y=\"Titulo\", x = \"Porcentagem (%)\", kind=\"bar\", data=df_ocupation)\n",
    "\n",
    "plt.show()"
   ]
  },
  {
   "cell_type": "code",
   "execution_count": null,
   "id": "caa44b81",
   "metadata": {},
   "outputs": [],
   "source": []
  },
  {
   "cell_type": "markdown",
   "id": "5f4eab3e",
   "metadata": {},
   "source": [
    "### Clustering"
   ]
  },
  {
   "cell_type": "markdown",
   "id": "2d850f28",
   "metadata": {},
   "source": [
    "***há agrupamentos nos dados de perfil materno?***\n",
    "\n",
    "***há agrupamento nos dados de desfecho?***"
   ]
  },
  {
   "cell_type": "code",
   "execution_count": null,
   "id": "5f0aa3da",
   "metadata": {},
   "outputs": [],
   "source": [
    "# qual algoritmo de clustering utilizar? o numero de amostras é absurdo\n",
    "\n",
    "# perfil materno\n",
    "perfil_materno = ['ESTCIVMAE','ESCMAE','RACACOR']\n",
    "\n",
    "# perfil prenatal\n",
    "perfil_prenatal = ['CONSULTAS','MESPRENAT']\n",
    "\n",
    "# desfecho\n",
    "desfecho = ['APGAR','PESO','GESTACAO','parto_prematuro']"
   ]
  },
  {
   "cell_type": "code",
   "execution_count": null,
   "id": "67956716",
   "metadata": {
    "scrolled": false
   },
   "outputs": [],
   "source": [
    "# Dissimilarity matrix for categorical variables (1 - Overlap) \n",
    "import Categorical_similarity_measures as sim\n",
    "def sim_to_dist(x):\n",
    "    return 1-x\n",
    "\n",
    "test = data.sample(n = 200) # sampling\n",
    "\n",
    "#dropna\n",
    "test.dropna(axis=0, how='any', thresh=None, subset=None, inplace=False)\n",
    "\n",
    "#similarity and dissimilarity\n",
    "similarity = sim.Overlap(test[perfil_materno])\n",
    "similarity_df = pd.DataFrame(similarity)\n",
    "\n",
    "distance_df = pd.DataFrame(similarity)\n",
    "distance_df = distance_df.apply(sim_to_dist)\n",
    "# diagonal = 0\n",
    "distance_df = np.array(distance_df)\n",
    "np.fill_diagonal(distance_df, 0)\n",
    "distance_df = pd.DataFrame(distance_df)"
   ]
  },
  {
   "cell_type": "code",
   "execution_count": null,
   "id": "6a4dd42b",
   "metadata": {},
   "outputs": [],
   "source": [
    "# representação da amostragem por MDS (Multidimension Scaling)\n",
    "# https://stackabuse.com/guide-to-multidimensional-scaling-in-python-with-scikit-learn/\n",
    "from sklearn.manifold import MDS\n",
    "\n",
    "X = np.array([[0, 0, 0], [0, 0, 1], [1, 1, 1], [0, 1, 0], [0, 1, 1]])\n",
    "mds = MDS(random_state=0)\n",
    "X_transform = mds.fit_transform(X)\n",
    "\n",
    "mds = MDS(dissimilarity='precomputed', random_state=0)\n",
    "\n",
    "X_transform_L1 = mds.fit_transform(distance_df)"
   ]
  },
  {
   "cell_type": "code",
   "execution_count": null,
   "id": "23a7e2b6",
   "metadata": {},
   "outputs": [],
   "source": [
    "# plot\n",
    "import tkinter\n",
    "import matplotlib.pyplot as plt\n",
    "matplotlib.use('TkAgg')\n",
    "\n",
    "plt.scatter(x= pd.DataFrame(X_transform_L1)[0], y=pd.DataFrame(X_transform_L1)[1])\n",
    "plt.show()"
   ]
  },
  {
   "cell_type": "code",
   "execution_count": null,
   "id": "fde5b42a",
   "metadata": {},
   "outputs": [],
   "source": [
    "# clusterização\n",
    "# KNN"
   ]
  },
  {
   "cell_type": "markdown",
   "id": "33dca18a",
   "metadata": {},
   "source": []
  }
 ],
 "metadata": {
  "kernelspec": {
   "display_name": "Python 3 (ipykernel)",
   "language": "python",
   "name": "python3"
  },
  "language_info": {
   "codemirror_mode": {
    "name": "ipython",
    "version": 3
   },
   "file_extension": ".py",
   "mimetype": "text/x-python",
   "name": "python",
   "nbconvert_exporter": "python",
   "pygments_lexer": "ipython3",
   "version": "3.9.5"
  }
 },
 "nbformat": 4,
 "nbformat_minor": 5
}

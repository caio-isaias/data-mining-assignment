{
 "cells": [
  {
   "cell_type": "markdown",
   "id": "024a6c85",
   "metadata": {},
   "source": [
    "## Load packages & data"
   ]
  },
  {
   "cell_type": "markdown",
   "id": "b37da9a8",
   "metadata": {},
   "source": [
    "### Packages"
   ]
  },
  {
   "cell_type": "code",
   "execution_count": null,
   "id": "9f488d55",
   "metadata": {},
   "outputs": [],
   "source": [
    "import numpy as np\n",
    "import pandas as pd\n",
    "from pandas_profiling import ProfileReport\n",
    "import seaborn as sns\n",
    "import tkinter\n",
    "import matplotlib\n",
    "import matplotlib.pyplot as plt\n",
    "matplotlib.use('TkAgg')"
   ]
  },
  {
   "cell_type": "markdown",
   "id": "175a9ff8",
   "metadata": {},
   "source": [
    "### Data"
   ]
  },
  {
   "cell_type": "code",
   "execution_count": null,
   "id": "6a2ec289",
   "metadata": {},
   "outputs": [],
   "source": [
    "path = \"~/Documents/jupyter-workplace/data-mining-assignment/reformed_all_data.csv\"\n",
    "data = pd.read_csv(path, index_col=0)\n",
    "\n",
    "path_cbo = \"~/Documents/jupyter-workplace/data-mining-assignment/CBO2002.csv\"\n",
    "cbo = pd.read_csv(path_cbo, index_col=0, encoding = 'unicode_escape', engine ='python')"
   ]
  },
  {
   "cell_type": "code",
   "execution_count": null,
   "id": "39889ca4",
   "metadata": {
    "scrolled": true
   },
   "outputs": [],
   "source": [
    "data.head(n = 10)"
   ]
  },
  {
   "cell_type": "markdown",
   "id": "e5926882",
   "metadata": {},
   "source": [
    "# Explorative Analysis"
   ]
  },
  {
   "cell_type": "code",
   "execution_count": null,
   "id": "3f8cd980",
   "metadata": {},
   "outputs": [],
   "source": [
    "# stratification\n",
    "\n",
    "data_branca = data[(data['RACACOR'] == 'Branca')]\n",
    "data_preta = data[(data['RACACOR'] == 'Preta')]\n",
    "data_pardo = data[(data['RACACOR'] == 'Parda')]\n",
    "\n",
    "# juntar gestates pretas e pardas\n",
    "frames = [data_pardo,data_preta]\n",
    "data_pp =  pd.concat(frames)"
   ]
  },
  {
   "cell_type": "code",
   "execution_count": null,
   "id": "3c0934a3",
   "metadata": {},
   "outputs": [],
   "source": [
    "# dimensões\n",
    "print(\"Total:\",data.shape, \"\\n\")\n",
    "print(\"Gestantes brancas:\",data_branca.shape, \"\\n\")\n",
    "print(\"Gestantes pretas ou pardas:\",data_pp.shape, \"\\n\")"
   ]
  },
  {
   "cell_type": "markdown",
   "id": "ee2a25cb",
   "metadata": {},
   "source": [
    "-----------\n",
    "## Descreptive analysis\n",
    "\n",
    "**Perfil da gestante**\n",
    "- Perfil de ocupação/escolaridade/etnia\n",
    "\n",
    "**Perfil do desfecho ao nascimento**\n",
    "- APGAR\n",
    "- Prematuridade\n",
    "\n",
    "---------------------------"
   ]
  },
  {
   "cell_type": "code",
   "execution_count": null,
   "id": "7d3e9a4c",
   "metadata": {},
   "outputs": [],
   "source": [
    "# função frequency report\n",
    "def frequency_report(data,parameter):\n",
    "    most_frequent = data[parameter].value_counts()\n",
    "    temp = most_frequent.head(n = 20)\n",
    "    \n",
    "    titulos = list(temp.index)\n",
    "    counts = list(temp)\n",
    "    percent = list(round(temp/sum(most_frequent)*100,2))\n",
    "    zipped = list(zip(titulos,counts,percent))\n",
    "    \n",
    "    df_ocupation = pd.DataFrame(data = zipped, columns= [\"Titulo\",\"Count\",\"Porcentagem (%)\"])\n",
    "    \n",
    "    return(df_ocupation)"
   ]
  },
  {
   "cell_type": "code",
   "execution_count": null,
   "id": "a72c5014",
   "metadata": {
    "scrolled": true
   },
   "outputs": [],
   "source": [
    "# geral\n",
    "frequency_report(data = data, parameter = 'CODOCUPMAE')"
   ]
  },
  {
   "cell_type": "code",
   "execution_count": null,
   "id": "fc6fbb50",
   "metadata": {
    "scrolled": true
   },
   "outputs": [],
   "source": [
    "# Gestante branca\n",
    "frequency_report(data = data_branca, parameter = 'CODOCUPMAE')"
   ]
  },
  {
   "cell_type": "code",
   "execution_count": null,
   "id": "e27d9ab5",
   "metadata": {
    "scrolled": true
   },
   "outputs": [],
   "source": [
    "# Gestante preta e parda\n",
    "frequency_report(data = data_pp, parameter = 'CODOCUPMAE')"
   ]
  },
  {
   "cell_type": "code",
   "execution_count": null,
   "id": "5139c5b6",
   "metadata": {},
   "outputs": [],
   "source": [
    "#sns.set_theme(style=\"darkgrid\")\n",
    "\n",
    "#ax = sns.catplot(y=\"Titulo\", x = \"Porcentagem (%)\", kind=\"bar\", data=df_ocupation)\n",
    "\n",
    "#plt.show()"
   ]
  },
  {
   "cell_type": "markdown",
   "id": "5f4eab3e",
   "metadata": {},
   "source": [
    "## Clustering"
   ]
  },
  {
   "cell_type": "markdown",
   "id": "2d850f28",
   "metadata": {},
   "source": [
    "***há agrupamentos nos dados de perfil materno?***"
   ]
  },
  {
   "cell_type": "markdown",
   "id": "3b11028e",
   "metadata": {},
   "source": [
    "### Preprocessing"
   ]
  },
  {
   "cell_type": "code",
   "execution_count": null,
   "id": "6681bdc3",
   "metadata": {},
   "outputs": [],
   "source": [
    "# perfil materno\n",
    "perfil_materno = ['ESCMAE','RACACOR','CODOCUPMAE']"
   ]
  },
  {
   "cell_type": "code",
   "execution_count": null,
   "id": "5f0aa3da",
   "metadata": {},
   "outputs": [],
   "source": [
    "# selecionando brancas, pardas e pretas\n",
    "data_cluster = data[((data['RACACOR'] == 'Parda') | (data['RACACOR'] == 'Preta') | (data['RACACOR'] == 'Branca'))]\n",
    "\n",
    "data_cluster = data_cluster.reset_index()\n",
    "\n",
    "data_cluster = data_cluster.drop(\"index\", axis=1)"
   ]
  },
  {
   "cell_type": "code",
   "execution_count": null,
   "id": "39e2742b",
   "metadata": {},
   "outputs": [],
   "source": [
    "# substituir preta e pardar por preta/parda\n",
    "data_cluster['RACACOR'] = data_cluster['RACACOR'].map({'Branca':'Branca','Preta':'Preta/Parda',\n",
    "                                                       'Parda':'Preta/Parda'})\n",
    "raca_dtype = pd.CategoricalDtype(categories=['Branca', 'Preta/Parda'], \n",
    "                                   ordered=False)\n",
    "data_cluster['RACACOR'].astype(raca_dtype)"
   ]
  },
  {
   "cell_type": "code",
   "execution_count": null,
   "id": "bc79ba26",
   "metadata": {},
   "outputs": [],
   "source": [
    "# only relevant ocupations\n",
    "table1 = frequency_report(data = data, parameter = 'CODOCUPMAE')\n",
    "table2 = frequency_report(data = data_branca, parameter = 'CODOCUPMAE')\n",
    "table3 = frequency_report(data = data_pp, parameter = 'CODOCUPMAE')\n",
    "\n",
    "table = list(table1[\"Titulo\"])+list(table2[\"Titulo\"])+list(table3[\"Titulo\"])\n",
    "\n",
    "top_ocupations = list(set(table))\n",
    "\n",
    "data_cluster = data_cluster[data_cluster['CODOCUPMAE'].isin(top_ocupations)]"
   ]
  },
  {
   "cell_type": "markdown",
   "id": "d6cadf65",
   "metadata": {},
   "source": [
    "### Sampling, Distance Matrix and K-Medoid"
   ]
  },
  {
   "cell_type": "code",
   "execution_count": 689,
   "id": "ca804b71",
   "metadata": {},
   "outputs": [
    {
     "data": {
      "text/plain": [
       "Branca         277\n",
       "Preta/Parda    223\n",
       "Name: RACACOR, dtype: int64"
      ]
     },
     "execution_count": 689,
     "metadata": {},
     "output_type": "execute_result"
    }
   ],
   "source": [
    "samp = data_cluster.sample(n = 500)\n",
    "samp = samp.reset_index()\n",
    "\n",
    "samp['RACACOR'].value_counts()"
   ]
  },
  {
   "cell_type": "code",
   "execution_count": 632,
   "id": "007d445d",
   "metadata": {},
   "outputs": [],
   "source": [
    "import time\n",
    "import Categorical_similarity_measures as sim\n",
    "import kmedoids\n",
    "\n",
    "from scipy.spatial.distance import squareform\n",
    "from scipy.spatial.distance import pdist, jaccard\n",
    "\n",
    "def sim_to_dist(x):\n",
    "    return 1-x"
   ]
  },
  {
   "cell_type": "markdown",
   "id": "20005a72",
   "metadata": {},
   "source": [
    "#### Jaccard distance"
   ]
  },
  {
   "cell_type": "code",
   "execution_count": 1071,
   "id": "e023eb6c",
   "metadata": {
    "scrolled": true
   },
   "outputs": [],
   "source": [
    "from sklearn import preprocessing\n",
    "# codificar elementos antes de rodar o jaccard\n",
    "\n",
    "ocupationenc = preprocessing.LabelEncoder()\n",
    "ocupationenc.fit(samp['CODOCUPMAE'])\n",
    "enc_ocupation_mapping = dict(zip(ocupationenc.classes_, ocupationenc.transform(ocupationenc.classes_)))\n",
    "samp['CODOCUPMAE'] = ocupationenc.transform(samp['CODOCUPMAE'])\n",
    "\n",
    "racialenc = preprocessing.LabelEncoder()\n",
    "racialenc.fit(samp['RACACOR'])\n",
    "enc_racial_mapping = dict(zip(racialenc.classes_, racialenc.transform(racialenc.classes_)))\n",
    "samp['RACACOR'] = racialenc.transform(samp['RACACOR'])\n",
    "\n",
    "escolenc = preprocessing.LabelEncoder()\n",
    "escolenc.fit(samp['ESCMAE'])\n",
    "enc_escolaridade_mapping = dict(zip(escolenc.classes_, escolenc.transform(escolenc.classes_)))\n",
    "samp['ESCMAE'] = escolenc.transform(samp['ESCMAE'])\n"
   ]
  },
  {
   "cell_type": "code",
   "execution_count": 1072,
   "id": "f2651f7c",
   "metadata": {},
   "outputs": [
    {
     "name": "stdout",
     "output_type": "stream",
     "text": [
      "time elapsed:  0.00013199647267659505  minutos\n"
     ]
    }
   ],
   "source": [
    "# Jaccard\n",
    "\n",
    "start = time.time() # start timer\n",
    "distmat_jaccard = pdist(samp[perfil_materno], 'jaccard')\n",
    "distmat_jaccard = pd.DataFrame(squareform(distmat_jaccard), index=samp.index,\n",
    "                               columns= samp.index)\n",
    "end = time.time() # end timer\n",
    "\n",
    "print(\"time elapsed: \", (end - start)/60, \" minutos\")"
   ]
  },
  {
   "cell_type": "code",
   "execution_count": 1073,
   "id": "500668ed",
   "metadata": {},
   "outputs": [],
   "source": [
    "# decodificar elementos fatorizados\n",
    "\n",
    "samp['CODOCUPMAE'] = list(ocupationenc.inverse_transform(samp['CODOCUPMAE']))\n",
    "samp['RACACOR'] = list(racialenc.inverse_transform(samp['RACACOR']))\n",
    "samp['ESCMAE'] = list(escolenc.inverse_transform(samp['ESCMAE']))"
   ]
  },
  {
   "cell_type": "markdown",
   "id": "94c7d29a",
   "metadata": {},
   "source": [
    "#### Overlap similarity"
   ]
  },
  {
   "cell_type": "markdown",
   "id": "60836c3d",
   "metadata": {},
   "source": [
    "**otimizar calculo do overlap** para aumentar amostragem!"
   ]
  },
  {
   "cell_type": "code",
   "execution_count": 1064,
   "id": "85ffc1cd",
   "metadata": {},
   "outputs": [
    {
     "name": "stdout",
     "output_type": "stream",
     "text": [
      "time elapsed:  0.2537096301714579  minutos\n"
     ]
    }
   ],
   "source": [
    "# Overlap\n",
    "\n",
    "start = time.time() # start timer\n",
    "#similarity and dissimilarity\n",
    "similarity = sim.Overlap(samp[perfil_materno])\n",
    "similarity_df = pd.DataFrame(similarity)\n",
    "\n",
    "distmat_overlap = pd.DataFrame(similarity)\n",
    "distmat_overlap = distmat_overlap.apply(sim_to_dist)\n",
    "# diagonal = 0\n",
    "distmat_overlap = np.array(distmat_overlap)\n",
    "np.fill_diagonal(distmat_overlap, 0)\n",
    "distmat_overlap = pd.DataFrame(distmat_overlap)\n",
    "end = time.time() # end timer\n",
    "\n",
    "print(\"time elapsed: \", (end - start)/60, \" minutos\")"
   ]
  },
  {
   "cell_type": "markdown",
   "id": "c0acaf24",
   "metadata": {},
   "source": [
    "#### Clustering"
   ]
  },
  {
   "cell_type": "code",
   "execution_count": 1074,
   "id": "9a7fb978",
   "metadata": {},
   "outputs": [
    {
     "name": "stdout",
     "output_type": "stream",
     "text": [
      "4 \n",
      "\n"
     ]
    },
    {
     "data": {
      "text/plain": [
       "191.66666666666703"
      ]
     },
     "execution_count": 1074,
     "metadata": {},
     "output_type": "execute_result"
    }
   ],
   "source": [
    "# jaccard\n",
    "start = time.time() # start timer\n",
    "jaccard_c = kmedoids.fasterpam(distmat_jaccard, 4, max_iter = 10, random_state= 5)\n",
    "end = time.time() # end timer\n",
    "\n",
    "print(jaccard_c.n_iter,\"\\n\")\n",
    "jaccard_c.loss"
   ]
  },
  {
   "cell_type": "code",
   "execution_count": 1066,
   "id": "fbf8854e",
   "metadata": {},
   "outputs": [
    {
     "name": "stdout",
     "output_type": "stream",
     "text": [
      "3 \n",
      "\n"
     ]
    },
    {
     "data": {
      "text/plain": [
       "0.9999999999999998"
      ]
     },
     "execution_count": 1066,
     "metadata": {},
     "output_type": "execute_result"
    }
   ],
   "source": [
    "# overlap \n",
    "start = time.time() # start timer\n",
    "overlap_c = kmedoids.fasterpam(distmat_overlap, 4, max_iter = 10, random_state= 2)\n",
    "end = time.time() # end timer\n",
    "\n",
    "print(overlap_c.n_iter,\"\\n\")\n",
    "overlap_c.loss"
   ]
  },
  {
   "cell_type": "markdown",
   "id": "8b4d93b0",
   "metadata": {},
   "source": [
    "**save** result in a dataframe"
   ]
  },
  {
   "cell_type": "code",
   "execution_count": 1076,
   "id": "20bc5a3a",
   "metadata": {},
   "outputs": [],
   "source": [
    "# data clust (jaccard)\n",
    "cluster_jaccard = pd.DataFrame(data = {'Ocupação': samp['CODOCUPMAE'], 'Escolaridade': samp['ESCMAE'],\n",
    "                                       'Raça': samp['RACACOR'], 'Cluster': jaccard_c.labels})\n",
    "\n",
    "# data clust (overlap)\n",
    "cluster_overlap = pd.DataFrame(data = {'Ocupação': samp['CODOCUPMAE'], 'Escolaridade': samp['ESCMAE'],\n",
    "                                       'Raça': samp['RACACOR'], 'Cluster': overlap_c.labels})\n"
   ]
  },
  {
   "cell_type": "code",
   "execution_count": 1077,
   "id": "b0633fd0",
   "metadata": {},
   "outputs": [
    {
     "data": {
      "text/html": [
       "<div>\n",
       "<style scoped>\n",
       "    .dataframe tbody tr th:only-of-type {\n",
       "        vertical-align: middle;\n",
       "    }\n",
       "\n",
       "    .dataframe tbody tr th {\n",
       "        vertical-align: top;\n",
       "    }\n",
       "\n",
       "    .dataframe thead th {\n",
       "        text-align: right;\n",
       "    }\n",
       "</style>\n",
       "<table border=\"1\" class=\"dataframe\">\n",
       "  <thead>\n",
       "    <tr style=\"text-align: right;\">\n",
       "      <th></th>\n",
       "      <th>Ocupação</th>\n",
       "      <th>Escolaridade</th>\n",
       "      <th>Raça</th>\n",
       "      <th>Cluster</th>\n",
       "    </tr>\n",
       "  </thead>\n",
       "  <tbody>\n",
       "    <tr>\n",
       "      <th>249</th>\n",
       "      <td>Professor da  educação de jovens e adultos do ...</td>\n",
       "      <td>8 a 11 anos</td>\n",
       "      <td>Preta/Parda</td>\n",
       "      <td>0</td>\n",
       "    </tr>\n",
       "    <tr>\n",
       "      <th>245</th>\n",
       "      <td>Operador de telemarketing ativo e receptivo</td>\n",
       "      <td>8 a 11 anos</td>\n",
       "      <td>Preta/Parda</td>\n",
       "      <td>0</td>\n",
       "    </tr>\n",
       "    <tr>\n",
       "      <th>254</th>\n",
       "      <td>Vendedor de comércio varejista</td>\n",
       "      <td>4 a 7 anos</td>\n",
       "      <td>Preta/Parda</td>\n",
       "      <td>0</td>\n",
       "    </tr>\n",
       "    <tr>\n",
       "      <th>256</th>\n",
       "      <td>Empregado  doméstico  nos serviços gerais</td>\n",
       "      <td>8 a 11 anos</td>\n",
       "      <td>Preta/Parda</td>\n",
       "      <td>0</td>\n",
       "    </tr>\n",
       "    <tr>\n",
       "      <th>257</th>\n",
       "      <td>Operador de caixa</td>\n",
       "      <td>8 a 11 anos</td>\n",
       "      <td>Preta/Parda</td>\n",
       "      <td>0</td>\n",
       "    </tr>\n",
       "    <tr>\n",
       "      <th>...</th>\n",
       "      <td>...</td>\n",
       "      <td>...</td>\n",
       "      <td>...</td>\n",
       "      <td>...</td>\n",
       "    </tr>\n",
       "    <tr>\n",
       "      <th>227</th>\n",
       "      <td>Cabeleireiro</td>\n",
       "      <td>12 e mais</td>\n",
       "      <td>Preta/Parda</td>\n",
       "      <td>3</td>\n",
       "    </tr>\n",
       "    <tr>\n",
       "      <th>231</th>\n",
       "      <td>Recepcionista</td>\n",
       "      <td>12 e mais</td>\n",
       "      <td>Preta/Parda</td>\n",
       "      <td>3</td>\n",
       "    </tr>\n",
       "    <tr>\n",
       "      <th>379</th>\n",
       "      <td>Manicure</td>\n",
       "      <td>12 e mais</td>\n",
       "      <td>Preta/Parda</td>\n",
       "      <td>3</td>\n",
       "    </tr>\n",
       "    <tr>\n",
       "      <th>458</th>\n",
       "      <td>Auxiliar de enfermagem</td>\n",
       "      <td>12 e mais</td>\n",
       "      <td>Preta/Parda</td>\n",
       "      <td>3</td>\n",
       "    </tr>\n",
       "    <tr>\n",
       "      <th>349</th>\n",
       "      <td>Professor da  educação de jovens e adultos do ...</td>\n",
       "      <td>12 e mais</td>\n",
       "      <td>Preta/Parda</td>\n",
       "      <td>3</td>\n",
       "    </tr>\n",
       "  </tbody>\n",
       "</table>\n",
       "<p>500 rows × 4 columns</p>\n",
       "</div>"
      ],
      "text/plain": [
       "                                              Ocupação Escolaridade  \\\n",
       "249  Professor da  educação de jovens e adultos do ...  8 a 11 anos   \n",
       "245        Operador de telemarketing ativo e receptivo  8 a 11 anos   \n",
       "254                     Vendedor de comércio varejista   4 a 7 anos   \n",
       "256          Empregado  doméstico  nos serviços gerais  8 a 11 anos   \n",
       "257                                  Operador de caixa  8 a 11 anos   \n",
       "..                                                 ...          ...   \n",
       "227                                       Cabeleireiro    12 e mais   \n",
       "231                                      Recepcionista    12 e mais   \n",
       "379                                           Manicure    12 e mais   \n",
       "458                             Auxiliar de enfermagem    12 e mais   \n",
       "349  Professor da  educação de jovens e adultos do ...    12 e mais   \n",
       "\n",
       "            Raça  Cluster  \n",
       "249  Preta/Parda        0  \n",
       "245  Preta/Parda        0  \n",
       "254  Preta/Parda        0  \n",
       "256  Preta/Parda        0  \n",
       "257  Preta/Parda        0  \n",
       "..           ...      ...  \n",
       "227  Preta/Parda        3  \n",
       "231  Preta/Parda        3  \n",
       "379  Preta/Parda        3  \n",
       "458  Preta/Parda        3  \n",
       "349  Preta/Parda        3  \n",
       "\n",
       "[500 rows x 4 columns]"
      ]
     },
     "execution_count": 1077,
     "metadata": {},
     "output_type": "execute_result"
    }
   ],
   "source": [
    "cluster_jaccard.sort_values(by=['Cluster'])"
   ]
  },
  {
   "cell_type": "markdown",
   "id": "a119cf29",
   "metadata": {},
   "source": [
    "### Results evaluation"
   ]
  },
  {
   "cell_type": "markdown",
   "id": "31dead1b",
   "metadata": {},
   "source": [
    "apresentar **siluette plot** para avaliação da qualidadde de clusterização!\n",
    "\n",
    "ver caracteristicas de cada cluster por **tabela**, **barplot** e heatmap da **matriz de distancias organizado por cluster**!"
   ]
  },
  {
   "cell_type": "code",
   "execution_count": 1079,
   "id": "1e9fe29e",
   "metadata": {},
   "outputs": [],
   "source": [
    "#matriz de distancia separada por cluster\n",
    "reorder = cluster_overlap.sort_values(by=['Cluster']).index\n",
    "\n",
    "distmat_overlap = distmat_overlap.reindex(reorder)\n",
    "distmat_overlap = distmat_overlap.reindex(columns = reorder)\n",
    "\n",
    "#new_id = list(cluster_overlap.sort_values(by=['Cluster'])['Cluster'])\n",
    "\n",
    "#distmat_overlap.index.name = new_id\n",
    "#distmat_overlap.columns.name = new_id\n",
    "\n",
    "sns.heatmap(data = distmat_overlap)\n",
    "\n",
    "plt.show()"
   ]
  },
  {
   "cell_type": "code",
   "execution_count": 1078,
   "id": "92675dd9",
   "metadata": {},
   "outputs": [],
   "source": [
    "#matriz de distancia separada por cluster\n",
    "reorder = cluster_jaccard.sort_values(by=['Cluster']).index\n",
    "\n",
    "distmat_jaccard = distmat_jaccard.reindex(reorder)\n",
    "distmat_jaccard = distmat_jaccard.reindex(columns = reorder)\n",
    "\n",
    "sns.heatmap(data = distmat_jaccard)\n",
    "\n",
    "plt.show()"
   ]
  },
  {
   "cell_type": "code",
   "execution_count": 1021,
   "id": "73bf35ca",
   "metadata": {},
   "outputs": [],
   "source": [
    "from sklearn.metrics import silhouette_samples, silhouette_score\n",
    "# sillhuete plot (distance matrix + cluster id)\n",
    "\n",
    "\n",
    "#view cluster details: table and barplot"
   ]
  }
 ],
 "metadata": {
  "kernelspec": {
   "display_name": "Python 3 (ipykernel)",
   "language": "python",
   "name": "python3"
  },
  "language_info": {
   "codemirror_mode": {
    "name": "ipython",
    "version": 3
   },
   "file_extension": ".py",
   "mimetype": "text/x-python",
   "name": "python",
   "nbconvert_exporter": "python",
   "pygments_lexer": "ipython3",
   "version": "3.9.5"
  }
 },
 "nbformat": 4,
 "nbformat_minor": 5
}

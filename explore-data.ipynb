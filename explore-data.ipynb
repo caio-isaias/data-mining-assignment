{
 "cells": [
  {
   "cell_type": "markdown",
   "id": "6bac88ec",
   "metadata": {},
   "source": [
    "## Load data & package"
   ]
  },
  {
   "cell_type": "code",
   "execution_count": null,
   "id": "0c115b14",
   "metadata": {},
   "outputs": [],
   "source": [
    "# atualizar variaveis (adicionar novas variaveis de interesse e dar push)!!\n",
    "\n",
    "df_2019 <- read.csv(\"./filtered_data2019.csv\")\n",
    "df_2018 <- read.csv(\"./filtered_data2018.csv\")\n",
    "df_2017 <- read.csv(\"./filtered_data2017.csv\")\n",
    "df_2016 <- read.csv(\"./filtered_data2016.csv\")\n",
    "df_2015 <- read.csv(\"./filtered_data2015.csv\")"
   ]
  },
  {
   "cell_type": "markdown",
   "id": "64b54e19",
   "metadata": {},
   "source": [
    "## Explorative Analysis"
   ]
  },
  {
   "cell_type": "code",
   "execution_count": null,
   "id": "326b9da4",
   "metadata": {},
   "outputs": [],
   "source": [
    "# estabelecer conjunto de variaveis:\n",
    "\n",
    "mother_profile <- c(\"\")\n",
    "\n",
    "gest_outcome <- c(\"\")"
   ]
  },
  {
   "cell_type": "markdown",
   "id": "91a25ece",
   "metadata": {},
   "source": [
    "### Statistic description\n",
    "\n",
    "avaliar max/min/media/sd das variaveis para cada ano"
   ]
  },
  {
   "cell_type": "code",
   "execution_count": null,
   "id": "dd6f1209",
   "metadata": {
    "scrolled": true
   },
   "outputs": [],
   "source": [
    "summary(df_2015)\n",
    "# hist(df_2015$IDADEMAE, breaks = c(10:99))"
   ]
  },
  {
   "cell_type": "code",
   "execution_count": null,
   "id": "57f07ffc",
   "metadata": {
    "scrolled": true
   },
   "outputs": [],
   "source": [
    "summary(df_2016)"
   ]
  },
  {
   "cell_type": "code",
   "execution_count": null,
   "id": "412da535",
   "metadata": {
    "scrolled": true
   },
   "outputs": [],
   "source": [
    "summary(df_2017)"
   ]
  },
  {
   "cell_type": "code",
   "execution_count": null,
   "id": "068a6783",
   "metadata": {
    "scrolled": true
   },
   "outputs": [],
   "source": [
    "summary(df_2018)"
   ]
  },
  {
   "cell_type": "code",
   "execution_count": null,
   "id": "a75a335c",
   "metadata": {
    "scrolled": true
   },
   "outputs": [],
   "source": [
    "summary(df_2019)"
   ]
  },
  {
   "cell_type": "code",
   "execution_count": null,
   "id": "48b5c6f2",
   "metadata": {
    "scrolled": false
   },
   "outputs": [],
   "source": [
    "# gravidez na infancia/adolescencia\n",
    "length(which(df_2015$IDADEMAE == 11|df_2015$IDADEMAE == 12|df_2015$IDADEMAE == 13|df_2015$IDADEMAE == 14|df_2015$IDADEMAE == 15))\n",
    "length(which(df_2016$IDADEMAE == 11|df_2016$IDADEMAE == 12|df_2016$IDADEMAE == 13|df_2016$IDADEMAE == 14|df_2016$IDADEMAE == 15))\n",
    "length(which(df_2017$IDADEMAE == 11|df_2017$IDADEMAE == 12|df_2017$IDADEMAE == 13|df_2017$IDADEMAE == 14|df_2017$IDADEMAE == 15))\n",
    "length(which(df_2018$IDADEMAE == 11|df_2018$IDADEMAE == 12|df_2018$IDADEMAE == 13|df_2018$IDADEMAE == 14|df_2018$IDADEMAE == 15))\n",
    "length(which(df_2019$IDADEMAE == 11|df_2019$IDADEMAE == 12|df_2019$IDADEMAE == 13|df_2019$IDADEMAE == 14|df_2019$IDADEMAE == 15))"
   ]
  },
  {
   "cell_type": "code",
   "execution_count": null,
   "id": "1acd4035",
   "metadata": {},
   "outputs": [],
   "source": [
    "?hist"
   ]
  },
  {
   "cell_type": "markdown",
   "id": "f44f4deb",
   "metadata": {},
   "source": [
    "### Clustering by mother conditions/profile"
   ]
  },
  {
   "cell_type": "code",
   "execution_count": null,
   "id": "1a6d4c76",
   "metadata": {},
   "outputs": [],
   "source": [
    "# qual estratégia de clustering usar?"
   ]
  },
  {
   "cell_type": "markdown",
   "id": "9334cc70",
   "metadata": {},
   "source": [
    "### Clustering by gestational outcome"
   ]
  },
  {
   "cell_type": "code",
   "execution_count": null,
   "id": "f78689c5",
   "metadata": {},
   "outputs": [],
   "source": []
  },
  {
   "cell_type": "markdown",
   "id": "23fa4579",
   "metadata": {},
   "source": [
    "## Predective Analysis"
   ]
  },
  {
   "cell_type": "code",
   "execution_count": null,
   "id": "3bfb7873",
   "metadata": {},
   "outputs": [],
   "source": []
  },
  {
   "cell_type": "markdown",
   "id": "1ec5cb23",
   "metadata": {},
   "source": [
    "### SHAP"
   ]
  },
  {
   "cell_type": "code",
   "execution_count": null,
   "id": "0e19bffb",
   "metadata": {},
   "outputs": [],
   "source": [
    "# avaliar quais parametros melhor predizem o desfecho"
   ]
  },
  {
   "cell_type": "markdown",
   "id": "2c681304",
   "metadata": {},
   "source": []
  },
  {
   "cell_type": "code",
   "execution_count": null,
   "id": "90a4a9a5",
   "metadata": {},
   "outputs": [],
   "source": []
  },
  {
   "cell_type": "code",
   "execution_count": null,
   "id": "ab632b89",
   "metadata": {},
   "outputs": [],
   "source": []
  }
 ],
 "metadata": {
  "kernelspec": {
   "display_name": "R",
   "language": "R",
   "name": "ir"
  },
  "language_info": {
   "codemirror_mode": "r",
   "file_extension": ".r",
   "mimetype": "text/x-r-source",
   "name": "R",
   "pygments_lexer": "r",
   "version": "3.6.1"
  }
 },
 "nbformat": 4,
 "nbformat_minor": 5
}

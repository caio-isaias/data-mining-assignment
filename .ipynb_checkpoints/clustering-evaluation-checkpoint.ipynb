{
 "cells": [
  {
   "cell_type": "markdown",
   "id": "a0cd04d0",
   "metadata": {},
   "source": [
    "## Load package, data and functions"
   ]
  },
  {
   "cell_type": "markdown",
   "id": "b6c996ad",
   "metadata": {},
   "source": [
    "### Packages"
   ]
  },
  {
   "cell_type": "code",
   "execution_count": 1,
   "id": "2dbed677",
   "metadata": {},
   "outputs": [],
   "source": [
    "import numpy as np\n",
    "import pandas as pd\n",
    "from pandas_profiling import ProfileReport\n",
    "import seaborn as sns\n",
    "import tkinter\n",
    "import matplotlib\n",
    "import matplotlib.pyplot as plt\n",
    "\n",
    "import time\n",
    "import Categorical_similarity_measures as sim\n",
    "import kmedoids\n",
    "\n",
    "from scipy.spatial.distance import squareform\n",
    "from scipy.spatial.distance import pdist, jaccard\n",
    "\n",
    "from sklearn import preprocessing\n",
    "\n",
    "import sklearn\n",
    "\n",
    "from sklearn.metrics import silhouette_samples, silhouette_score\n",
    "import itertools\n",
    "\n",
    "from sklearn.cluster import AgglomerativeClustering\n",
    "from scipy.cluster.hierarchy import dendrogram\n",
    "\n",
    "matplotlib.use('TkAgg')"
   ]
  },
  {
   "cell_type": "markdown",
   "id": "85e883bf",
   "metadata": {},
   "source": [
    "### Functions"
   ]
  },
  {
   "cell_type": "markdown",
   "id": "2e19747a",
   "metadata": {},
   "source": [
    "Silhuette plot function..."
   ]
  },
  {
   "cell_type": "code",
   "execution_count": 247,
   "id": "78ae8bb7",
   "metadata": {},
   "outputs": [],
   "source": [
    "import warnings\n",
    "\n",
    "def fxn():\n",
    "    warnings.warn(\"deprecated\", DeprecationWarning)\n",
    "\n",
    "with warnings.catch_warnings():\n",
    "    warnings.simplefilter(\"ignore\")\n",
    "    fxn()"
   ]
  },
  {
   "cell_type": "code",
   "execution_count": 194,
   "id": "cf18dc12",
   "metadata": {},
   "outputs": [],
   "source": [
    "import matplotlib.pyplot as plt\n",
    "import matplotlib.cm as cm\n",
    "\n",
    "#https://scikit-learn.org/stable/auto_examples/cluster/plot_kmeans_silhouette_analysis.html#sphx-glr-auto-examples-cluster-plot-kmeans-silhouette-analysis-py\n",
    "def sil_plot(distance_matrix,range_n_clusters):\n",
    "    \n",
    "\n",
    "    for n_clusters in range_n_clusters:\n",
    "        # Create a subplot with 1 row and 2 columns\n",
    "        fig, (ax1) = plt.subplots(1)\n",
    "        fig.set_size_inches(18, 7)\n",
    "\n",
    "        # The 1st subplot is the silhouette plot\n",
    "        # The silhouette coefficient can range from -1, 1 but in this example all\n",
    "        # lie within [-0.5, 1]\n",
    "        ax1.set_xlim([-0.5, 1])\n",
    "        # The (n_clusters+1)*10 is for inserting blank space between silhouette\n",
    "        # plots of individual clusters, to demarcate them clearly.\n",
    "        ax1.set_ylim([0, len(distance_matrix) + (n_clusters + 1) * 10])\n",
    "\n",
    "        # Initialize the clusterer with n_clusters value and a random generator\n",
    "        # seed of 47 for reproducibility.\n",
    "        kmed = kmedoids.fasterpam(distance_matrix,n_clusters, random_state= 47)\n",
    "        \n",
    "        # The silhouette_score gives the average value for all the samples.\n",
    "        # This gives a perspective into the density and separation of the formed\n",
    "        # clusters\n",
    "        silhouette_avg = silhouette_score(X = distance_matrix, labels = kmed.labels, metric='precomputed')\n",
    "\n",
    "        print(\n",
    "            \"For n_clusters =\",\n",
    "            n_clusters,\n",
    "            \"The average silhouette_score is :\",\n",
    "            silhouette_avg,\n",
    "        )\n",
    "\n",
    "        # Compute the silhouette scores for each sample\n",
    "        sample_silhouette_values = silhouette_samples(X = distance_matrix,labels = kmed.labels, \n",
    "                                                      metric='precomputed')\n",
    "\n",
    "        y_lower = 10\n",
    "        for i in range(n_clusters):\n",
    "            # Aggregate the silhouette scores for samples belonging to\n",
    "            # cluster i, and sort them\n",
    "            ith_cluster_silhouette_values = sample_silhouette_values[kmed.labels == i]\n",
    "\n",
    "            ith_cluster_silhouette_values.sort()\n",
    "\n",
    "            size_cluster_i = ith_cluster_silhouette_values.shape[0]\n",
    "            y_upper = y_lower + size_cluster_i\n",
    "\n",
    "            color = cm.nipy_spectral(float(i) / n_clusters)\n",
    "            ax1.fill_betweenx(\n",
    "                np.arange(y_lower, y_upper),\n",
    "                0,\n",
    "                ith_cluster_silhouette_values,\n",
    "                facecolor=color,\n",
    "                edgecolor=color,\n",
    "                alpha=0.7,\n",
    "            )\n",
    "\n",
    "            # Label the silhouette plots with their cluster numbers at the middle\n",
    "            ax1.text(-0.05, y_lower + 0.5 * size_cluster_i, str(i))\n",
    "\n",
    "            # Compute the new y_lower for next plot\n",
    "            y_lower = y_upper + 10  # 10 for the 0 samples\n",
    "\n",
    "        ax1.set_title(\"The silhouette plot for the various clusters.\")\n",
    "        ax1.set_xlabel(\"The silhouette coefficient values\")\n",
    "        ax1.set_ylabel(\"Cluster label\")\n",
    "\n",
    "        # The vertical line for average silhouette score of all the values\n",
    "        ax1.axvline(x=silhouette_avg, color=\"red\", linestyle=\"--\")\n",
    "\n",
    "        ax1.set_yticks([])  # Clear the yaxis labels / ticks\n",
    "        ax1.set_xticks([-0.5,-0.4,-0.3,-0.2,-0.1, 0, 0.2, 0.4, 0.6, 0.8, 1])\n",
    "\n",
    "        plt.suptitle(\n",
    "            \"Silhouette analysis for K-Medoids clustering on sample data with %d clusters\"\n",
    "            % n_clusters,\n",
    "            fontsize=14,\n",
    "            fontweight=\"bold\",\n",
    "        )\n",
    "\n",
    "    plt.show()"
   ]
  },
  {
   "cell_type": "markdown",
   "id": "abfd1f3e",
   "metadata": {},
   "source": [
    "Dendrogram plot..."
   ]
  },
  {
   "cell_type": "code",
   "execution_count": 3,
   "id": "74f82774",
   "metadata": {},
   "outputs": [],
   "source": [
    "def plot_dendrogram(model, **kwargs):\n",
    "    # Create linkage matrix and then plot the dendrogram\n",
    "\n",
    "    # create the counts of samples under each node\n",
    "    counts = np.zeros(model.children_.shape[0])\n",
    "    n_samples = len(model.labels_)\n",
    "    for i, merge in enumerate(model.children_):\n",
    "        current_count = 0\n",
    "        for child_idx in merge:\n",
    "            if child_idx < n_samples:\n",
    "                current_count += 1  # leaf node\n",
    "            else:\n",
    "                current_count += counts[child_idx - n_samples]\n",
    "        counts[i] = current_count\n",
    "\n",
    "    linkage_matrix = np.column_stack(\n",
    "        [model.children_, model.distances_, counts]\n",
    "    ).astype(float)\n",
    "\n",
    "    # Plot the corresponding dendrogram\n",
    "    dendrogram(linkage_matrix, **kwargs)"
   ]
  },
  {
   "cell_type": "markdown",
   "id": "81818972",
   "metadata": {},
   "source": [
    "### Data"
   ]
  },
  {
   "cell_type": "markdown",
   "id": "dc4d9693",
   "metadata": {},
   "source": [
    "Overlap distance matrix and sample data..."
   ]
  },
  {
   "cell_type": "code",
   "execution_count": 2,
   "id": "292f8815",
   "metadata": {},
   "outputs": [],
   "source": [
    "path1 = \"~/Documents/jupyter-workplace/data-mining-assignment/final_sample3000.csv\"\n",
    "sample = pd.read_csv(path1, index_col=0)\n",
    "\n",
    "path2 = \"~/Documents/jupyter-workplace/data-mining-assignment/overlap-distance-matrix.csv\"\n",
    "distmat_overlap = pd.read_csv(path2, index_col=0)\n",
    "\n",
    "path3 = \"~/Documents/jupyter-workplace/data-mining-assignment/jaccard-distance-matrix.csv\"\n",
    "distmat_jaccard = pd.read_csv(path3, index_col=0)"
   ]
  },
  {
   "cell_type": "markdown",
   "id": "d9d9d478",
   "metadata": {},
   "source": [
    "## Check sample"
   ]
  },
  {
   "cell_type": "code",
   "execution_count": 5,
   "id": "ffeae815",
   "metadata": {},
   "outputs": [],
   "source": [
    "# removendo colunas inutilizadas\n",
    "sample = sample.drop([\"GESTACAO\",\"PESO\"], axis=1)"
   ]
  },
  {
   "cell_type": "code",
   "execution_count": 7,
   "id": "65230a41",
   "metadata": {
    "scrolled": false
   },
   "outputs": [
    {
     "data": {
      "text/html": [
       "<div>\n",
       "<style scoped>\n",
       "    .dataframe tbody tr th:only-of-type {\n",
       "        vertical-align: middle;\n",
       "    }\n",
       "\n",
       "    .dataframe tbody tr th {\n",
       "        vertical-align: top;\n",
       "    }\n",
       "\n",
       "    .dataframe thead th {\n",
       "        text-align: right;\n",
       "    }\n",
       "</style>\n",
       "<table border=\"1\" class=\"dataframe\">\n",
       "  <thead>\n",
       "    <tr style=\"text-align: right;\">\n",
       "      <th></th>\n",
       "      <th>index</th>\n",
       "      <th>IDADEMAE</th>\n",
       "      <th>ESTCIVMAE</th>\n",
       "      <th>ESCMAE</th>\n",
       "      <th>RACACOR</th>\n",
       "      <th>CODOCUPMAE</th>\n",
       "      <th>CONSULTAS</th>\n",
       "      <th>MESPRENAT</th>\n",
       "      <th>IDANOMAL</th>\n",
       "      <th>parto_prematuro</th>\n",
       "      <th>APGAR</th>\n",
       "    </tr>\n",
       "  </thead>\n",
       "  <tbody>\n",
       "    <tr>\n",
       "      <th>0</th>\n",
       "      <td>176744</td>\n",
       "      <td>21</td>\n",
       "      <td>Uniao consesual</td>\n",
       "      <td>8 a 11 anos</td>\n",
       "      <td>Branca</td>\n",
       "      <td>Vendedor de comércio varejista</td>\n",
       "      <td>Ideal</td>\n",
       "      <td>Segundo mes</td>\n",
       "      <td>Nao</td>\n",
       "      <td>Normal</td>\n",
       "      <td>Normal</td>\n",
       "    </tr>\n",
       "    <tr>\n",
       "      <th>1</th>\n",
       "      <td>323299</td>\n",
       "      <td>35</td>\n",
       "      <td>Casada</td>\n",
       "      <td>8 a 11 anos</td>\n",
       "      <td>Branca</td>\n",
       "      <td>Vendedor de comércio varejista</td>\n",
       "      <td>Ideal</td>\n",
       "      <td>Segundo mes</td>\n",
       "      <td>Nao</td>\n",
       "      <td>Normal</td>\n",
       "      <td>Normal</td>\n",
       "    </tr>\n",
       "    <tr>\n",
       "      <th>2</th>\n",
       "      <td>8477</td>\n",
       "      <td>35</td>\n",
       "      <td>Solteira</td>\n",
       "      <td>8 a 11 anos</td>\n",
       "      <td>Preta/Parda</td>\n",
       "      <td>Vendedor de comércio varejista</td>\n",
       "      <td>Ideal</td>\n",
       "      <td>Primeiro mes</td>\n",
       "      <td>Nao</td>\n",
       "      <td>Normal</td>\n",
       "      <td>Normal</td>\n",
       "    </tr>\n",
       "    <tr>\n",
       "      <th>3</th>\n",
       "      <td>63424</td>\n",
       "      <td>29</td>\n",
       "      <td>Solteira</td>\n",
       "      <td>8 a 11 anos</td>\n",
       "      <td>Preta/Parda</td>\n",
       "      <td>Vendedor de comércio varejista</td>\n",
       "      <td>Ok</td>\n",
       "      <td>Atraso</td>\n",
       "      <td>Nao</td>\n",
       "      <td>Indicio</td>\n",
       "      <td>Normal</td>\n",
       "    </tr>\n",
       "    <tr>\n",
       "      <th>4</th>\n",
       "      <td>57551</td>\n",
       "      <td>27</td>\n",
       "      <td>Casada</td>\n",
       "      <td>12 e mais</td>\n",
       "      <td>Branca</td>\n",
       "      <td>Vendedor de comércio varejista</td>\n",
       "      <td>Ok</td>\n",
       "      <td>Atraso</td>\n",
       "      <td>Nao</td>\n",
       "      <td>Normal</td>\n",
       "      <td>Normal</td>\n",
       "    </tr>\n",
       "    <tr>\n",
       "      <th>...</th>\n",
       "      <td>...</td>\n",
       "      <td>...</td>\n",
       "      <td>...</td>\n",
       "      <td>...</td>\n",
       "      <td>...</td>\n",
       "      <td>...</td>\n",
       "      <td>...</td>\n",
       "      <td>...</td>\n",
       "      <td>...</td>\n",
       "      <td>...</td>\n",
       "      <td>...</td>\n",
       "    </tr>\n",
       "    <tr>\n",
       "      <th>2995</th>\n",
       "      <td>258787</td>\n",
       "      <td>28</td>\n",
       "      <td>Casada</td>\n",
       "      <td>12 e mais</td>\n",
       "      <td>Branca</td>\n",
       "      <td>Psicólogo clínico</td>\n",
       "      <td>Ideal</td>\n",
       "      <td>Segundo mes</td>\n",
       "      <td>Nao</td>\n",
       "      <td>Normal</td>\n",
       "      <td>Normal</td>\n",
       "    </tr>\n",
       "    <tr>\n",
       "      <th>2996</th>\n",
       "      <td>100905</td>\n",
       "      <td>31</td>\n",
       "      <td>Uniao consesual</td>\n",
       "      <td>12 e mais</td>\n",
       "      <td>Branca</td>\n",
       "      <td>Psicólogo clínico</td>\n",
       "      <td>Ideal</td>\n",
       "      <td>Segundo mes</td>\n",
       "      <td>Nao</td>\n",
       "      <td>Normal</td>\n",
       "      <td>Normal</td>\n",
       "    </tr>\n",
       "    <tr>\n",
       "      <th>2997</th>\n",
       "      <td>57603</td>\n",
       "      <td>37</td>\n",
       "      <td>Casada</td>\n",
       "      <td>12 e mais</td>\n",
       "      <td>Branca</td>\n",
       "      <td>Psicólogo clínico</td>\n",
       "      <td>Ideal</td>\n",
       "      <td>Segundo mes</td>\n",
       "      <td>Nao</td>\n",
       "      <td>Normal</td>\n",
       "      <td>Normal</td>\n",
       "    </tr>\n",
       "    <tr>\n",
       "      <th>2998</th>\n",
       "      <td>118719</td>\n",
       "      <td>32</td>\n",
       "      <td>Casada</td>\n",
       "      <td>12 e mais</td>\n",
       "      <td>Branca</td>\n",
       "      <td>Psicólogo clínico</td>\n",
       "      <td>Ideal</td>\n",
       "      <td>Primeiro mes</td>\n",
       "      <td>Nao</td>\n",
       "      <td>Normal</td>\n",
       "      <td>Normal</td>\n",
       "    </tr>\n",
       "    <tr>\n",
       "      <th>2999</th>\n",
       "      <td>267284</td>\n",
       "      <td>39</td>\n",
       "      <td>Solteira</td>\n",
       "      <td>12 e mais</td>\n",
       "      <td>Branca</td>\n",
       "      <td>Psicólogo clínico</td>\n",
       "      <td>Ideal</td>\n",
       "      <td>Segundo mes</td>\n",
       "      <td>Nao</td>\n",
       "      <td>Prematuro</td>\n",
       "      <td>Normal</td>\n",
       "    </tr>\n",
       "  </tbody>\n",
       "</table>\n",
       "<p>3000 rows × 11 columns</p>\n",
       "</div>"
      ],
      "text/plain": [
       "       index  IDADEMAE        ESTCIVMAE       ESCMAE      RACACOR  \\\n",
       "0     176744        21  Uniao consesual  8 a 11 anos       Branca   \n",
       "1     323299        35           Casada  8 a 11 anos       Branca   \n",
       "2       8477        35         Solteira  8 a 11 anos  Preta/Parda   \n",
       "3      63424        29         Solteira  8 a 11 anos  Preta/Parda   \n",
       "4      57551        27           Casada    12 e mais       Branca   \n",
       "...      ...       ...              ...          ...          ...   \n",
       "2995  258787        28           Casada    12 e mais       Branca   \n",
       "2996  100905        31  Uniao consesual    12 e mais       Branca   \n",
       "2997   57603        37           Casada    12 e mais       Branca   \n",
       "2998  118719        32           Casada    12 e mais       Branca   \n",
       "2999  267284        39         Solteira    12 e mais       Branca   \n",
       "\n",
       "                          CODOCUPMAE CONSULTAS     MESPRENAT IDANOMAL  \\\n",
       "0     Vendedor de comércio varejista     Ideal   Segundo mes      Nao   \n",
       "1     Vendedor de comércio varejista     Ideal   Segundo mes      Nao   \n",
       "2     Vendedor de comércio varejista     Ideal  Primeiro mes      Nao   \n",
       "3     Vendedor de comércio varejista        Ok        Atraso      Nao   \n",
       "4     Vendedor de comércio varejista        Ok        Atraso      Nao   \n",
       "...                              ...       ...           ...      ...   \n",
       "2995               Psicólogo clínico     Ideal   Segundo mes      Nao   \n",
       "2996               Psicólogo clínico     Ideal   Segundo mes      Nao   \n",
       "2997               Psicólogo clínico     Ideal   Segundo mes      Nao   \n",
       "2998               Psicólogo clínico     Ideal  Primeiro mes      Nao   \n",
       "2999               Psicólogo clínico     Ideal   Segundo mes      Nao   \n",
       "\n",
       "     parto_prematuro   APGAR  \n",
       "0             Normal  Normal  \n",
       "1             Normal  Normal  \n",
       "2             Normal  Normal  \n",
       "3            Indicio  Normal  \n",
       "4             Normal  Normal  \n",
       "...              ...     ...  \n",
       "2995          Normal  Normal  \n",
       "2996          Normal  Normal  \n",
       "2997          Normal  Normal  \n",
       "2998          Normal  Normal  \n",
       "2999       Prematuro  Normal  \n",
       "\n",
       "[3000 rows x 11 columns]"
      ]
     },
     "execution_count": 7,
     "metadata": {},
     "output_type": "execute_result"
    }
   ],
   "source": [
    "sample"
   ]
  },
  {
   "cell_type": "markdown",
   "id": "3cb1fee9",
   "metadata": {},
   "source": [
    "## Clustering"
   ]
  },
  {
   "cell_type": "markdown",
   "id": "950d6cd9",
   "metadata": {},
   "source": [
    "### Overlap distance matrix"
   ]
  },
  {
   "cell_type": "code",
   "execution_count": 122,
   "id": "2a04f301",
   "metadata": {},
   "outputs": [],
   "source": [
    "# random 1000 initialization for kmedoid (higher random state)\n",
    "temp_score = [0,0,0,0] # k = 2,3,4,5\n",
    "score = [[] for x in range(100)] # each item will have the variable temp_score\n",
    "n_clusters = [2,3,4,5]\n",
    "\n",
    "for i in range(len(score)):\n",
    "    for n_c in n_clusters:\n",
    "        kmed = kmedoids.fasterpam(distmat_overlap,n_c, random_state= i) \n",
    "        temp_score[n_c-2] = silhouette_score(X = distmat_overlap,\n",
    "                                             labels = kmed.labels,\n",
    "                                             metric='precomputed')\n",
    "    score[i] = max(temp_score)"
   ]
  },
  {
   "cell_type": "code",
   "execution_count": 138,
   "id": "d04afb43",
   "metadata": {},
   "outputs": [
    {
     "data": {
      "text/plain": [
       "<Figure size 360x360 with 0 Axes>"
      ]
     },
     "metadata": {},
     "output_type": "display_data"
    },
    {
     "data": {
      "image/png": "[encoded data removed]",
      "text/plain": [
       "<Figure size 360x360 with 1 Axes>"
      ]
     },
     "metadata": {
      "needs_background": "light"
     },
     "output_type": "display_data"
    }
   ],
   "source": [
    "%matplotlib inline\n",
    "#plot of max sillhuettes from 100 differents random states (seeds)\n",
    "plt.figure(figsize = (5,5))\n",
    "sns.displot(score, bins=10, kde=True)\n",
    "plt.show()"
   ]
  },
  {
   "cell_type": "code",
   "execution_count": 165,
   "id": "dcf52ef4",
   "metadata": {},
   "outputs": [
    {
     "name": "stdout",
     "output_type": "stream",
     "text": [
      "Random state:  47 \n",
      "Max Silhuoette:  0.6420960754683042\n"
     ]
    }
   ],
   "source": [
    "ind_max = np.where(score == max(score))[0][0]\n",
    "print(\"Random state: \",ind_max,\"\\nMax Silhuoette: \",score[ind_max])"
   ]
  },
  {
   "cell_type": "code",
   "execution_count": 179,
   "id": "c85bccc7",
   "metadata": {},
   "outputs": [],
   "source": [
    "# for overlap distance matrix\n",
    "n_clusters = [2,3,4,5,6]\n",
    "kmedoids_sil_results = [0,0,0,0,0]\n",
    "hier_comp_sil_results = [0,0,0,0,0]\n",
    "hier_avg_sil_results = [0,0,0,0,0]\n",
    "\n",
    "for i in n_clusters:\n",
    "    # kmedoid clustering / rs = [4,]\n",
    "    kmed = kmedoids.fasterpam(distmat_overlap,i, random_state= 47)\n",
    "    kmedoids_sil_results[i-2] = silhouette_score(X = distmat_overlap, labels = kmed.labels,\n",
    "                                                 metric='precomputed')\n",
    "    \n",
    "    # hierarquical clustering - complete linkage\n",
    "    model_comp = AgglomerativeClustering(affinity='precomputed', n_clusters = i, linkage='complete')\n",
    "    hier_comp = model_comp.fit(distmat_overlap)\n",
    "    hier_comp_sil_results[i-2] = silhouette_score(X = distmat_overlap, labels = hier_comp.labels_,\n",
    "                                                 metric='precomputed')\n",
    "    \n",
    "    # hierarquical clustering - average linkage\n",
    "    model_avg = AgglomerativeClustering(affinity='precomputed', n_clusters = i, linkage='average')\n",
    "    hier_avg = model_avg.fit(distmat_overlap)\n",
    "    hier_avg_sil_results[i-2] = silhouette_score(X = distmat_overlap, labels = hier_avg.labels_,\n",
    "                                                 metric='precomputed')"
   ]
  },
  {
   "cell_type": "code",
   "execution_count": 180,
   "id": "8e3c71ff",
   "metadata": {},
   "outputs": [],
   "source": [
    "Silhouette_Mean = kmedoids_sil_results+hier_comp_sil_results+hier_avg_sil_results\n",
    "Clustering_Method = ([\"K-Medoids\"]*5)+([\"Complete Linkage\"]*5)+([\"Average Linkage\"]*5)\n",
    "Number_clusters = n_clusters*3\n",
    "\n",
    "matrix = np.transpose(np.array([Clustering_Method,Number_clusters,Silhouette_Mean]))\n",
    "\n",
    "sill_evaluation_df = pd.DataFrame(matrix, columns=[\"Clustering Method\",\"Number of Clusters\",\n",
    "                                                   \"Silhouette Mean\"])\n",
    "\n",
    "sill_evaluation_df['Silhouette Mean'] = sill_evaluation_df['Silhouette Mean'].astype(\"float\")\n",
    "sill_evaluation_df['Number of Clusters'] = sill_evaluation_df['Number of Clusters'].astype(\"int\")\n",
    "#sill_evaluation_df"
   ]
  },
  {
   "cell_type": "code",
   "execution_count": 181,
   "id": "34b8a9c2",
   "metadata": {
    "scrolled": true
   },
   "outputs": [
    {
     "data": {
      "image/png": "[encoded data removed]",
      "text/plain": [
       "<Figure size 432x288 with 1 Axes>"
      ]
     },
     "metadata": {
      "needs_background": "light"
     },
     "output_type": "display_data"
    }
   ],
   "source": [
    "%matplotlib inline\n",
    "\n",
    "title = \"Evaluating clustering quality for Overlap distance\"\n",
    "\n",
    "handles, labels = plt.gca().get_legend_handles_labels()\n",
    "by_label = dict(zip(labels, handles))\n",
    "plt.legend(by_label.values(), by_label.keys())\n",
    "\n",
    "sns.lineplot(data=sill_evaluation_df, \n",
    "             x=\"Number of Clusters\", y=\"Silhouette Mean\", hue=\"Clustering Method\").set(title=title)\n",
    "\n",
    "plt.xticks(ticks=n_clusters, labels=n_clusters)\n",
    "\n",
    "plt.show()"
   ]
  },
  {
   "cell_type": "markdown",
   "id": "7d5f6304",
   "metadata": {},
   "source": [
    "### Jaccard distance matrix"
   ]
  },
  {
   "cell_type": "code",
   "execution_count": 140,
   "id": "3091a8a1",
   "metadata": {},
   "outputs": [],
   "source": [
    "# random 100 initialization for kmedoid (higher random state)\n",
    "temp_score = [0,0,0,0] # k = 2,3,4,5\n",
    "score = [[] for x in range(100)] # each item will have the variable temp_score\n",
    "n_clusters = [2,3,4,5]\n",
    "\n",
    "for i in range(len(score)):\n",
    "    for n_c in n_clusters:\n",
    "        kmed = kmedoids.fasterpam(distmat_jaccard,n_c, random_state= i) \n",
    "        temp_score[n_c-2] = silhouette_score(X = distmat_jaccard,\n",
    "                                             labels = kmed.labels,\n",
    "                                             metric='precomputed')\n",
    "    score[i] = max(temp_score)"
   ]
  },
  {
   "cell_type": "code",
   "execution_count": 144,
   "id": "a0fa5a25",
   "metadata": {},
   "outputs": [
    {
     "data": {
      "text/plain": [
       "<Figure size 360x360 with 0 Axes>"
      ]
     },
     "metadata": {},
     "output_type": "display_data"
    },
    {
     "data": {
      "image/png": "[encoded data removed]",
      "text/plain": [
       "<Figure size 360x360 with 1 Axes>"
      ]
     },
     "metadata": {
      "needs_background": "light"
     },
     "output_type": "display_data"
    }
   ],
   "source": [
    "%matplotlib inline\n",
    "#plot of max sillhuettes from 100 differents random states (seeds)\n",
    "plt.figure(figsize = (5,5))\n",
    "sns.displot(score, bins=10, kde=True)\n",
    "plt.show()"
   ]
  },
  {
   "cell_type": "code",
   "execution_count": 145,
   "id": "d8e64a63",
   "metadata": {},
   "outputs": [
    {
     "name": "stdout",
     "output_type": "stream",
     "text": [
      "Random state:  47 \n",
      "Max Silhuoette:  0.6420960754683042\n"
     ]
    }
   ],
   "source": [
    "ind_max = np.where(score == max(score))[0][0]\n",
    "print(\"Random state: \",ind_max,\"\\nMax Silhuoette: \",score[ind_max])"
   ]
  },
  {
   "cell_type": "code",
   "execution_count": 191,
   "id": "1b53cc7d",
   "metadata": {},
   "outputs": [],
   "source": [
    "# for jaccard distance matrix\n",
    "n_clusters = [2,3,4,5,6]\n",
    "kmedoids_sil_results = [0,0,0,0,0]\n",
    "hier_comp_sil_results = [0,0,0,0,0]\n",
    "hier_avg_sil_results = [0,0,0,0,0]\n",
    "\n",
    "for i in n_clusters:\n",
    "    # kmedoid clustering / rs = [5,1,4,9,10]\n",
    "    kmed = kmedoids.fasterpam(distmat_jaccard,i, random_state= 47) \n",
    "    kmedoids_sil_results[i-2] = silhouette_score(X = distmat_jaccard, labels = kmed.labels,\n",
    "                                                 metric='precomputed')\n",
    "    \n",
    "    # hierarquical clustering - complete linkage\n",
    "    model_comp = AgglomerativeClustering(affinity='precomputed', n_clusters = i, linkage='complete')\n",
    "    hier_comp = model_comp.fit(distmat_jaccard)\n",
    "    hier_comp_sil_results[i-2] = silhouette_score(X = distmat_jaccard, labels = hier_comp.labels_,\n",
    "                                                 metric='precomputed')\n",
    "    \n",
    "    # hierarquical clustering - average linkage\n",
    "    model_avg = AgglomerativeClustering(affinity='precomputed', n_clusters = i, linkage='average')\n",
    "    hier_avg = model_avg.fit(distmat_jaccard)\n",
    "    hier_avg_sil_results[i-2] = silhouette_score(X = distmat_jaccard, labels = hier_avg.labels_,\n",
    "                                                 metric='precomputed')"
   ]
  },
  {
   "cell_type": "code",
   "execution_count": 192,
   "id": "c24d8700",
   "metadata": {},
   "outputs": [],
   "source": [
    "Silhouette_Mean = kmedoids_sil_results+hier_comp_sil_results+hier_avg_sil_results\n",
    "Clustering_Method = ([\"K-Medoids\"]*5)+([\"Complete Linkage\"]*5)+([\"Average Linkage\"]*5)\n",
    "Number_clusters = n_clusters*3\n",
    "\n",
    "matrix = np.transpose(np.array([Clustering_Method,Number_clusters,Silhouette_Mean]))\n",
    "\n",
    "sill_evaluation_df = pd.DataFrame(matrix, columns=[\"Clustering Method\",\"Number of Clusters\",\n",
    "                                                   \"Silhouette Mean\"])\n",
    "\n",
    "sill_evaluation_df['Silhouette Mean'] = sill_evaluation_df['Silhouette Mean'].astype(\"float\")\n",
    "sill_evaluation_df['Number of Clusters'] = sill_evaluation_df['Number of Clusters'].astype(\"int\")\n",
    "#sill_evaluation_df"
   ]
  },
  {
   "cell_type": "code",
   "execution_count": 193,
   "id": "1f975a59",
   "metadata": {},
   "outputs": [
    {
     "data": {
      "image/png": "[encoded data removed]",
      "text/plain": [
       "<Figure size 432x288 with 1 Axes>"
      ]
     },
     "metadata": {
      "needs_background": "light"
     },
     "output_type": "display_data"
    }
   ],
   "source": [
    "%matplotlib inline\n",
    "\n",
    "title = \"Evaluating clustering quality for Jaccard distance\"\n",
    "\n",
    "handles, labels = plt.gca().get_legend_handles_labels()\n",
    "by_label = dict(zip(labels, handles))\n",
    "plt.legend(by_label.values(), by_label.keys())\n",
    "\n",
    "sns.lineplot(data=sill_evaluation_df, \n",
    "             x=\"Number of Clusters\", y=\"Silhouette Mean\", hue=\"Clustering Method\").set(title=title)\n",
    "\n",
    "plt.xticks(ticks=n_clusters, labels=n_clusters)\n",
    "\n",
    "plt.show()"
   ]
  },
  {
   "cell_type": "markdown",
   "id": "262b40ea",
   "metadata": {},
   "source": [
    "### Silhouette Plot"
   ]
  },
  {
   "cell_type": "code",
   "execution_count": 196,
   "id": "f9dcb5fa",
   "metadata": {
    "scrolled": false
   },
   "outputs": [
    {
     "name": "stdout",
     "output_type": "stream",
     "text": [
      "For n_clusters = 4 The average silhouette_score is : 0.6420960754683042\n"
     ]
    },
    {
     "data": {
      "image/png": "[encoded data removed]",
      "text/plain": [
       "<Figure size 1296x504 with 1 Axes>"
      ]
     },
     "metadata": {
      "needs_background": "light"
     },
     "output_type": "display_data"
    }
   ],
   "source": [
    "# Silhouette Plot\n",
    "# Average Linkage k = 5 (Overlap distance)\n",
    "\n",
    "sil_plot(distmat_jaccard, [4])"
   ]
  },
  {
   "cell_type": "code",
   "execution_count": 197,
   "id": "5722dd51",
   "metadata": {
    "scrolled": true
   },
   "outputs": [],
   "source": [
    "# Dendogram\n",
    "#cluster = AgglomerativeClustering(affinity='precomputed',distance_threshold=0,\n",
    "#                                  n_clusters = None, linkage='complete')\n",
    "#model = cluster.fit(distmat_overlap)\n",
    "#plt.title(\"Hierarchical Clustering (Average Linkage) Dendrogram (k = 5)\")\n",
    "# plot the top three levels of the dendrogram\n",
    "#plot_dendrogram(model, truncate_mode=\"level\", p=5)\n",
    "#plt.xlabel(\"Number of points in node (or index of point if no parenthesis).\")\n",
    "#plt.show()"
   ]
  },
  {
   "cell_type": "markdown",
   "id": "1cb81d04",
   "metadata": {},
   "source": [
    "### Distance Matrix Visualization"
   ]
  },
  {
   "cell_type": "code",
   "execution_count": 3,
   "id": "3ecaa024",
   "metadata": {},
   "outputs": [],
   "source": [
    "path3 = \"~/Documents/jupyter-workplace/data-mining-assignment/jaccard-distance-matrix.csv\"\n",
    "distmat_jaccard = pd.read_csv(path3, index_col=0)"
   ]
  },
  {
   "cell_type": "code",
   "execution_count": 4,
   "id": "7cb3e412",
   "metadata": {},
   "outputs": [],
   "source": [
    "kmed = kmedoids.fasterpam(distmat_jaccard,4, random_state= 47)\n",
    "\n",
    "perfil_materno = ['ESCMAE','RACACOR','CODOCUPMAE']\n",
    "cluster_data = sample[perfil_materno].assign(cluster = kmed.labels)\n",
    "cluster_samp = sample.assign(cluster = kmed.labels)"
   ]
  },
  {
   "cell_type": "code",
   "execution_count": 5,
   "id": "1855ea26",
   "metadata": {},
   "outputs": [],
   "source": [
    "cluster_samp.to_csv(\"sample3000_clustered.csv\")"
   ]
  },
  {
   "cell_type": "code",
   "execution_count": 295,
   "id": "28b69c61",
   "metadata": {},
   "outputs": [
    {
     "data": {
      "image/png": "[encoded data removed]",
      "text/plain": [
       "<Figure size 432x288 with 2 Axes>"
      ]
     },
     "metadata": {
      "needs_background": "light"
     },
     "output_type": "display_data"
    }
   ],
   "source": [
    "%matplotlib inline\n",
    "\n",
    "#matriz de distancia separada por cluster\n",
    "reorder = cluster_data.sort_values(by=['cluster']).index\n",
    "\n",
    "distmat_jaccard = distmat_jaccard.reindex(columns = reorder.astype('str'))\n",
    "distmat_jaccard = distmat_jaccard.reindex(reorder)\n",
    "\n",
    "sns.heatmap(data = distmat_jaccard, xticklabels=False, yticklabels=False, cmap=\"Blues\")\n",
    "\n",
    "plt.show()"
   ]
  },
  {
   "cell_type": "markdown",
   "id": "fff01b59",
   "metadata": {},
   "source": [
    "### Silhuoette Validation"
   ]
  },
  {
   "cell_type": "code",
   "execution_count": null,
   "id": "d3baa20b",
   "metadata": {},
   "outputs": [],
   "source": [
    "\n",
    "# criar 1000 dummy datasets com reordenamento aleatorio das variaveis, \n",
    "# calcular distancia, clusterização com os mesmos settings e criar um histograma de media de silhueta "
   ]
  },
  {
   "cell_type": "code",
   "execution_count": 268,
   "id": "a8016d4c",
   "metadata": {
    "scrolled": true
   },
   "outputs": [],
   "source": [
    "#dummy random datasets (with replacement)\n",
    "shuffled_df = sample[perfil_materno]\n",
    "\n",
    "#encoding\n",
    "ocupationenc = preprocessing.LabelEncoder()\n",
    "ocupationenc.fit(shuffled_df['CODOCUPMAE'])\n",
    "enc_ocupation_mapping = dict(zip(ocupationenc.classes_, ocupationenc.transform(ocupationenc.classes_)))\n",
    "shuffled_df['CODOCUPMAE'] = ocupationenc.transform(shuffled_df['CODOCUPMAE'])\n",
    "\n",
    "racialenc = preprocessing.LabelEncoder()\n",
    "racialenc.fit(shuffled_df['RACACOR'])\n",
    "enc_racial_mapping = dict(zip(racialenc.classes_, racialenc.transform(racialenc.classes_)))\n",
    "shuffled_df['RACACOR'] = racialenc.transform(shuffled_df['RACACOR'])\n",
    "\n",
    "escolenc = preprocessing.LabelEncoder()\n",
    "escolenc.fit(shuffled_df['ESCMAE'])\n",
    "enc_escolaridade_mapping = dict(zip(escolenc.classes_, escolenc.transform(escolenc.classes_)))\n",
    "shuffled_df['ESCMAE'] = escolenc.transform(shuffled_df['ESCMAE'])"
   ]
  },
  {
   "cell_type": "code",
   "execution_count": 269,
   "id": "37cad3dc",
   "metadata": {},
   "outputs": [],
   "source": [
    "temp = shuffled_df"
   ]
  },
  {
   "cell_type": "code",
   "execution_count": 284,
   "id": "d78ca2a2",
   "metadata": {},
   "outputs": [],
   "source": [
    "import random\n",
    "random.seed(1)\n",
    "warnings.filterwarnings(\"ignore\")\n",
    "\n",
    "sill_score = [[] for x in range(100)]\n",
    "\n",
    "for i in range(len(sill_score)):\n",
    "    #random dataset\n",
    "    temp['ESCMAE'] = random.choices(shuffled_df['ESCMAE'], k=len(temp))\n",
    "    temp['RACACOR'] = random.choices(shuffled_df['RACACOR'], k=len(temp))\n",
    "    temp['CODOCUPMAE'] = random.choices(shuffled_df['CODOCUPMAE'], k=len(temp))\n",
    "    # distance matrix\n",
    "    distmat_temp = pdist(temp, 'jaccard')\n",
    "    distmat_temp = pd.DataFrame(squareform(distmat_temp), index=temp.index,\n",
    "                                columns= temp.index)\n",
    "    # clustering\n",
    "    kmed_temp = kmedoids.fasterpam(distmat_temp,4, random_state= 47)\n",
    "    # sill average\n",
    "    sill_score[i] = silhouette_score(X = distmat_temp,\n",
    "                                     labels = kmed_temp.labels,\n",
    "                                     metric='precomputed')"
   ]
  },
  {
   "cell_type": "code",
   "execution_count": 299,
   "id": "c7c63913",
   "metadata": {},
   "outputs": [
    {
     "data": {
      "text/plain": [
       "<Figure size 360x360 with 0 Axes>"
      ]
     },
     "metadata": {},
     "output_type": "display_data"
    },
    {
     "data": {
      "image/png": "[encoded data removed]",
      "text/plain": [
       "<Figure size 360x360 with 1 Axes>"
      ]
     },
     "metadata": {
      "needs_background": "light"
     },
     "output_type": "display_data"
    }
   ],
   "source": [
    "%matplotlib inline\n",
    "#plot of max sillhuettes from 100 differents random states (seeds)\n",
    "plt.figure(figsize = (5,5))\n",
    "sns.displot(sill_score, bins=15, kde=True)\n",
    "plt.axvline(0.64209, 0,25, c= 'red',ls =':')\n",
    "plt.show()"
   ]
  },
  {
   "cell_type": "code",
   "execution_count": 282,
   "id": "b4173fd1",
   "metadata": {},
   "outputs": [],
   "source": [
    "?plt.axvline"
   ]
  }
 ],
 "metadata": {
  "kernelspec": {
   "display_name": "Python 3 (ipykernel)",
   "language": "python",
   "name": "python3"
  },
  "language_info": {
   "codemirror_mode": {
    "name": "ipython",
    "version": 3
   },
   "file_extension": ".py",
   "mimetype": "text/x-python",
   "name": "python",
   "nbconvert_exporter": "python",
   "pygments_lexer": "ipython3",
   "version": "3.9.5"
  }
 },
 "nbformat": 4,
 "nbformat_minor": 5
}

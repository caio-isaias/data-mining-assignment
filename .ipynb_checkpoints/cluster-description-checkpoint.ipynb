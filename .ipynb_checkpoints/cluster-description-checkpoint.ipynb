{
 "cells": [
  {
   "cell_type": "markdown",
   "id": "67b854e4",
   "metadata": {},
   "source": [
    "## Load packages, data and functions"
   ]
  },
  {
   "cell_type": "markdown",
   "id": "9af4dac1",
   "metadata": {},
   "source": [
    "### Packages"
   ]
  },
  {
   "cell_type": "code",
   "execution_count": 64,
   "id": "9895373a",
   "metadata": {},
   "outputs": [],
   "source": [
    "import scipy.stats as ss\n",
    "import numpy as np\n",
    "import pandas as pd\n",
    "import seaborn as sns\n",
    "import tkinter\n",
    "import matplotlib\n",
    "import matplotlib.pyplot as plt\n",
    "\n",
    "import time\n",
    "\n",
    "from sklearn import preprocessing\n",
    "import itertools\n",
    "\n",
    "matplotlib.use('TkAgg')"
   ]
  },
  {
   "cell_type": "markdown",
   "id": "109e087c",
   "metadata": {},
   "source": [
    "### Functions"
   ]
  },
  {
   "cell_type": "code",
   "execution_count": 2,
   "id": "1b1ab583",
   "metadata": {},
   "outputs": [],
   "source": [
    "# plot size\n",
    "def plot(dpi):\n",
    "    fig, ax=plt.subplots(dpi=dpi)\n",
    "    ax.plot([2,4,1,5], label=\"Label\")\n",
    "    ax.legend()"
   ]
  },
  {
   "cell_type": "code",
   "execution_count": 3,
   "id": "aaae80de",
   "metadata": {},
   "outputs": [],
   "source": [
    "# função frequency report\n",
    "def frequency_report(data,parameter, n):\n",
    "    most_frequent = data[parameter].value_counts()\n",
    "    temp = most_frequent.head(n)\n",
    "    \n",
    "    titulos = list(temp.index)\n",
    "    counts = list(temp)\n",
    "    percent = list(round(temp/sum(most_frequent)*100,2))\n",
    "    zipped = list(zip(titulos,counts,percent))\n",
    "    \n",
    "    df_ocupation = pd.DataFrame(data = zipped, columns= [\"Titulo\",\"Count\",\"Porcentagem (%)\"])\n",
    "    \n",
    "    return(df_ocupation)"
   ]
  },
  {
   "cell_type": "code",
   "execution_count": 4,
   "id": "31f5fe89",
   "metadata": {},
   "outputs": [],
   "source": [
    "# correlation for categorical data\n",
    "def cramers_corrected_stat(confusion_matrix):\n",
    "    \"\"\" calculate Cramers V statistic for categorial-categorial association.\n",
    "        uses correction from Bergsma and Wicher, \n",
    "        Journal of the Korean Statistical Society 42 (2013): 323-328\n",
    "    \"\"\"\n",
    "    chi2 = ss.chi2_contingency(confusion_matrix)[0]\n",
    "    n = confusion_matrix.sum().sum()\n",
    "    phi2 = chi2/n\n",
    "    r,k = confusion_matrix.shape\n",
    "    phi2corr = max(0, phi2 - ((k-1)*(r-1))/(n-1))    \n",
    "    rcorr = r - ((r-1)**2)/(n-1)\n",
    "    kcorr = k - ((k-1)**2)/(n-1)\n",
    "    return np.sqrt(phi2corr / min( (kcorr-1), (rcorr-1)))"
   ]
  },
  {
   "cell_type": "code",
   "execution_count": null,
   "id": "f1caf6ba",
   "metadata": {},
   "outputs": [],
   "source": [
    "def data_to_stack(data,variables):\n",
    "    agg = data.groupby(variables)['count'].sum().unstack().fillna(0)\n",
    "    \n",
    "    total = [[] for x in range(len(agg))]\n",
    "    for i in range(len(agg)):\n",
    "        total[i] = np.array(agg)[i].sum()\n",
    "        \n",
    "    result = [[] for x in range(len(agg))]\n",
    "    matrix = np.array(agg)\n",
    "    for i in range(len(agg)):\n",
    "        result[i] = (matrix[i])/(total[i])\n",
    "        \n",
    "    output = pd.DataFrame(np.array(result), columns= list(agg.columns), \n",
    "                          index = list(agg.index))\n",
    "    \n",
    "    output.columns.name = agg.columns.name\n",
    "    output.index.name = agg.index.name\n",
    "    \n",
    "    return(output)"
   ]
  },
  {
   "cell_type": "markdown",
   "id": "31039168",
   "metadata": {},
   "source": [
    "### Data"
   ]
  },
  {
   "cell_type": "code",
   "execution_count": 25,
   "id": "49ddcef7",
   "metadata": {},
   "outputs": [],
   "source": [
    "# load data\n",
    "path1 = '/home/caio/Documents/jupyter-workplace/data-mining-assignment/reformed_all_data.csv'\n",
    "data =  pd.read_csv(path1, index_col=0)\n",
    "data = data.drop(['PESO','GESTACAO'],axis =1)\n",
    "\n",
    "path2 = '/home/caio/Documents/jupyter-workplace/data-mining-assignment/sample3000_clustered.csv'\n",
    "data_cluster =  pd.read_csv(path2, index_col=0)\n",
    "data_cluster = data_cluster.drop(['PESO','GESTACAO'],axis =1)"
   ]
  },
  {
   "cell_type": "markdown",
   "id": "d79c4ddb",
   "metadata": {},
   "source": [
    "## Population description"
   ]
  },
  {
   "cell_type": "code",
   "execution_count": null,
   "id": "8d8a3eb0",
   "metadata": {},
   "outputs": [],
   "source": [
    "# demonstrar que a população preta e parda possuem perfis similares\n",
    "# demonstrar diferenças da população preta/parda coma população branca"
   ]
  },
  {
   "cell_type": "code",
   "execution_count": 38,
   "id": "f4bb48be",
   "metadata": {},
   "outputs": [
    {
     "data": {
      "text/html": [
       "<div>\n",
       "<style scoped>\n",
       "    .dataframe tbody tr th:only-of-type {\n",
       "        vertical-align: middle;\n",
       "    }\n",
       "\n",
       "    .dataframe tbody tr th {\n",
       "        vertical-align: top;\n",
       "    }\n",
       "\n",
       "    .dataframe thead th {\n",
       "        text-align: right;\n",
       "    }\n",
       "</style>\n",
       "<table border=\"1\" class=\"dataframe\">\n",
       "  <thead>\n",
       "    <tr style=\"text-align: right;\">\n",
       "      <th></th>\n",
       "      <th>IDADEMAE</th>\n",
       "      <th>ESTCIVMAE</th>\n",
       "      <th>ESCMAE</th>\n",
       "      <th>RACACOR</th>\n",
       "      <th>CODOCUPMAE</th>\n",
       "      <th>CONSULTAS</th>\n",
       "      <th>MESPRENAT</th>\n",
       "      <th>IDANOMAL</th>\n",
       "      <th>parto_prematuro</th>\n",
       "      <th>APGAR</th>\n",
       "    </tr>\n",
       "  </thead>\n",
       "  <tbody>\n",
       "    <tr>\n",
       "      <th>1</th>\n",
       "      <td>22</td>\n",
       "      <td>Solteira</td>\n",
       "      <td>8 a 11 anos</td>\n",
       "      <td>Parda</td>\n",
       "      <td>Técnico de planejamento de produção</td>\n",
       "      <td>Ideal</td>\n",
       "      <td>Atraso</td>\n",
       "      <td>Nao</td>\n",
       "      <td>Normal</td>\n",
       "      <td>Normal</td>\n",
       "    </tr>\n",
       "    <tr>\n",
       "      <th>1</th>\n",
       "      <td>27</td>\n",
       "      <td>Casada</td>\n",
       "      <td>12 e mais</td>\n",
       "      <td>Parda</td>\n",
       "      <td>Advogado</td>\n",
       "      <td>Ideal</td>\n",
       "      <td>NaN</td>\n",
       "      <td>Nao</td>\n",
       "      <td>Indicio</td>\n",
       "      <td>Normal</td>\n",
       "    </tr>\n",
       "    <tr>\n",
       "      <th>1</th>\n",
       "      <td>31</td>\n",
       "      <td>Casada</td>\n",
       "      <td>8 a 11 anos</td>\n",
       "      <td>Parda</td>\n",
       "      <td>Vendedor de comércio varejista</td>\n",
       "      <td>Ideal</td>\n",
       "      <td>Atraso</td>\n",
       "      <td>Nao</td>\n",
       "      <td>Normal</td>\n",
       "      <td>Normal</td>\n",
       "    </tr>\n",
       "  </tbody>\n",
       "</table>\n",
       "</div>"
      ],
      "text/plain": [
       "   IDADEMAE ESTCIVMAE       ESCMAE RACACOR  \\\n",
       "1        22  Solteira  8 a 11 anos   Parda   \n",
       "1        27    Casada    12 e mais   Parda   \n",
       "1        31    Casada  8 a 11 anos   Parda   \n",
       "\n",
       "                            CODOCUPMAE CONSULTAS MESPRENAT IDANOMAL  \\\n",
       "1  Técnico de planejamento de produção     Ideal    Atraso      Nao   \n",
       "1                             Advogado     Ideal       NaN      Nao   \n",
       "1       Vendedor de comércio varejista     Ideal    Atraso      Nao   \n",
       "\n",
       "  parto_prematuro   APGAR  \n",
       "1          Normal  Normal  \n",
       "1         Indicio  Normal  \n",
       "1          Normal  Normal  "
      ]
     },
     "execution_count": 38,
     "metadata": {},
     "output_type": "execute_result"
    }
   ],
   "source": [
    "data.head(n=3)"
   ]
  },
  {
   "cell_type": "code",
   "execution_count": 70,
   "id": "1e2ed078",
   "metadata": {},
   "outputs": [],
   "source": [
    "# separar\n",
    "branca = data\n",
    "branca = branca[branca['RACACOR'] == 'Branca']\n",
    "\n",
    "preta = data\n",
    "preta = preta[preta['RACACOR'] == 'Preta']\n",
    "\n",
    "parda = data\n",
    "parda = parda[parda['RACACOR'] == 'Parda']"
   ]
  },
  {
   "cell_type": "code",
   "execution_count": 61,
   "id": "dbb16478",
   "metadata": {
    "scrolled": true
   },
   "outputs": [
    {
     "data": {
      "image/png": "[encoded data removed]",
      "text/plain": [
       "<Figure size 360x360 with 1 Axes>"
      ]
     },
     "metadata": {
      "needs_background": "light"
     },
     "output_type": "display_data"
    },
    {
     "data": {
      "image/png": "[encoded data removed]",
      "text/plain": [
       "<Figure size 360x360 with 1 Axes>"
      ]
     },
     "metadata": {
      "needs_background": "light"
     },
     "output_type": "display_data"
    },
    {
     "data": {
      "image/png": "[encoded data removed]",
      "text/plain": [
       "<Figure size 360x360 with 1 Axes>"
      ]
     },
     "metadata": {
      "needs_background": "light"
     },
     "output_type": "display_data"
    }
   ],
   "source": [
    "# distribuição das idades \n",
    "%matplotlib inline\n",
    "\n",
    "#plt.figure(figsize = (5,5))\n",
    "sns.displot(branca['IDADEMAE'], bins=23, kde=True)\n",
    "sns.displot(parda['IDADEMAE'], bins=23, kde=True)\n",
    "sns.displot(preta['IDADEMAE'], bins=20, kde=True)\n",
    "\n",
    "plt.show()"
   ]
  },
  {
   "cell_type": "code",
   "execution_count": 90,
   "id": "82a4884f",
   "metadata": {},
   "outputs": [],
   "source": [
    "# stacked charts (ESTCIVMAE & ESCMAE)\n",
    "data_agg = data.assign(count = 1)\n",
    "data_agg = data_agg[(data_agg['RACACOR'] != 'Amarela')&(data_agg['RACACOR'] != 'Indigina')]\n",
    "\n",
    "agg_civ = data_agg.groupby(['RACACOR','ESTCIVMAE'])['count'].sum().unstack().fillna(0)\n",
    "agg_esc = data_agg.groupby(['RACACOR','ESCMAE'])['count'].sum().unstack().fillna(0)"
   ]
  },
  {
   "cell_type": "code",
   "execution_count": 106,
   "id": "1e1d7537",
   "metadata": {},
   "outputs": [],
   "source": [
    "# function to percent\n",
    "agg_civ = data_agg.groupby(['RACACOR','ESTCIVMAE'])['count'].sum().unstack().fillna(0)"
   ]
  },
  {
   "cell_type": "code",
   "execution_count": 183,
   "id": "5669c815",
   "metadata": {},
   "outputs": [
    {
     "data": {
      "text/plain": [
       "187169"
      ]
     },
     "execution_count": 183,
     "metadata": {},
     "output_type": "execute_result"
    }
   ],
   "source": [
    "def data_to_stack(data,variables):\n",
    "    agg = data.groupby(variables)['count'].sum().unstack().fillna(0)\n",
    "    \n",
    "    total = [[] for x in range(len(agg))]\n",
    "    for i in range(len(agg)):\n",
    "        total[i] = np.array(agg)[i].sum()\n",
    "        \n",
    "    result = [[] for x in range(len(agg))]\n",
    "    matrix = np.array(agg)\n",
    "    for i in range(len(agg)):\n",
    "        result[i] = (matrix[i])/(total[i])\n",
    "        \n",
    "    output = pd.DataFrame(np.array(result), columns= list(agg.columns), \n",
    "                          index = list(agg.index))\n",
    "    \n",
    "    output.columns.name = agg.columns.name\n",
    "    output.index.name = agg.index.name\n",
    "    \n",
    "    return(output)"
   ]
  },
  {
   "cell_type": "code",
   "execution_count": 184,
   "id": "659c0f9b",
   "metadata": {},
   "outputs": [
    {
     "data": {
      "text/html": [
       "<div>\n",
       "<style scoped>\n",
       "    .dataframe tbody tr th:only-of-type {\n",
       "        vertical-align: middle;\n",
       "    }\n",
       "\n",
       "    .dataframe tbody tr th {\n",
       "        vertical-align: top;\n",
       "    }\n",
       "\n",
       "    .dataframe thead th {\n",
       "        text-align: right;\n",
       "    }\n",
       "</style>\n",
       "<table border=\"1\" class=\"dataframe\">\n",
       "  <thead>\n",
       "    <tr style=\"text-align: right;\">\n",
       "      <th>ESTCIVMAE</th>\n",
       "      <th>Casada</th>\n",
       "      <th>Divorciada</th>\n",
       "      <th>Solteira</th>\n",
       "      <th>Uniao consesual</th>\n",
       "      <th>Viuva</th>\n",
       "    </tr>\n",
       "    <tr>\n",
       "      <th>RACACOR</th>\n",
       "      <th></th>\n",
       "      <th></th>\n",
       "      <th></th>\n",
       "      <th></th>\n",
       "      <th></th>\n",
       "    </tr>\n",
       "  </thead>\n",
       "  <tbody>\n",
       "    <tr>\n",
       "      <th>Branca</th>\n",
       "      <td>0.563026</td>\n",
       "      <td>0.021863</td>\n",
       "      <td>0.289818</td>\n",
       "      <td>0.124358</td>\n",
       "      <td>0.000935</td>\n",
       "    </tr>\n",
       "    <tr>\n",
       "      <th>Parda</th>\n",
       "      <td>0.340501</td>\n",
       "      <td>0.019295</td>\n",
       "      <td>0.438933</td>\n",
       "      <td>0.199805</td>\n",
       "      <td>0.001466</td>\n",
       "    </tr>\n",
       "    <tr>\n",
       "      <th>Preta</th>\n",
       "      <td>0.367517</td>\n",
       "      <td>0.018387</td>\n",
       "      <td>0.443834</td>\n",
       "      <td>0.168480</td>\n",
       "      <td>0.001782</td>\n",
       "    </tr>\n",
       "  </tbody>\n",
       "</table>\n",
       "</div>"
      ],
      "text/plain": [
       "ESTCIVMAE    Casada  Divorciada  Solteira  Uniao consesual     Viuva\n",
       "RACACOR                                                             \n",
       "Branca     0.563026    0.021863  0.289818         0.124358  0.000935\n",
       "Parda      0.340501    0.019295  0.438933         0.199805  0.001466\n",
       "Preta      0.367517    0.018387  0.443834         0.168480  0.001782"
      ]
     },
     "execution_count": 184,
     "metadata": {},
     "output_type": "execute_result"
    }
   ],
   "source": [
    "data_to_stack(data_agg,['RACACOR','ESTCIVMAE'])"
   ]
  },
  {
   "cell_type": "code",
   "execution_count": 180,
   "id": "e1ab5aad",
   "metadata": {},
   "outputs": [],
   "source": [
    "a"
   ]
  },
  {
   "cell_type": "code",
   "execution_count": 164,
   "id": "1e3665ae",
   "metadata": {},
   "outputs": [],
   "source": [
    "matrix = np.array(agg_civ)"
   ]
  },
  {
   "cell_type": "code",
   "execution_count": 174,
   "id": "302d7c83",
   "metadata": {},
   "outputs": [
    {
     "data": {
      "text/plain": [
       "array([[0.56302593, 0.02186259, 0.28981829, 0.1243582 , 0.00093498],\n",
       "       [0.34050058, 0.01929519, 0.43893345, 0.19980512, 0.00146566],\n",
       "       [0.36751716, 0.01838723, 0.44383364, 0.16848012, 0.00178186]])"
      ]
     },
     "execution_count": 174,
     "metadata": {},
     "output_type": "execute_result"
    }
   ],
   "source": [
    "result = [[] for x in range(len(agg_civ))]\n",
    "for i in range(len(agg_civ)):\n",
    "    result[i] = (matrix[i])/(total[i])\n",
    "np.array(result)"
   ]
  },
  {
   "cell_type": "code",
   "execution_count": 103,
   "id": "51d459d2",
   "metadata": {},
   "outputs": [
    {
     "data": {
      "text/plain": [
       "(array([0, 1, 2]),\n",
       " [Text(0, 0, 'Branca'), Text(1, 0, 'Parda'), Text(2, 0, 'Preta')])"
      ]
     },
     "execution_count": 103,
     "metadata": {},
     "output_type": "execute_result"
    },
    {
     "data": {
      "image/png": "[encoded data removed]",
      "text/plain": [
       "<Figure size 432x288 with 1 Axes>"
      ]
     },
     "metadata": {
      "needs_background": "light"
     },
     "output_type": "display_data"
    },
    {
     "data": {
      "image/png": "[encoded data removed]",
      "text/plain": [
       "<Figure size 432x288 with 1 Axes>"
      ]
     },
     "metadata": {
      "needs_background": "light"
     },
     "output_type": "display_data"
    }
   ],
   "source": [
    "agg_civ.plot(kind='bar', stacked=True, colormap='Accent')\n",
    "plt.title('Estado civil')\n",
    "plt.xticks(rotation=0, ha='center')\n",
    "\n",
    "agg_esc.plot(kind='bar', stacked=True, colormap = 'Accent')\n",
    "plt.title('Escolaridade')\n",
    "plt.xticks(rotation=0, ha='center')"
   ]
  },
  {
   "cell_type": "code",
   "execution_count": 83,
   "id": "ff83b5e9",
   "metadata": {},
   "outputs": [
    {
     "data": {
      "text/plain": [
       "Branca    187412\n",
       "Parda     124416\n",
       "Preta      26444\n",
       "Name: RACACOR, dtype: int64"
      ]
     },
     "execution_count": 83,
     "metadata": {},
     "output_type": "execute_result"
    }
   ],
   "source": []
  },
  {
   "cell_type": "markdown",
   "id": "c9057c3c",
   "metadata": {},
   "source": [
    "## Cluster description"
   ]
  },
  {
   "cell_type": "markdown",
   "id": "e344e0f7",
   "metadata": {},
   "source": [
    "* Stacked bar chart - para raça, ocupação e escolaridade de cada cluster"
   ]
  },
  {
   "cell_type": "code",
   "execution_count": 22,
   "id": "ecdf35a9",
   "metadata": {},
   "outputs": [],
   "source": [
    "#data_cluster_modified = data_cluster\n",
    "# juntar cluster 1, 2 e 3 \n",
    "#data_cluster_modified['cluster'] = data_cluster_modified['cluster'].map({0:0,1:1,2:1,3:1}) "
   ]
  },
  {
   "cell_type": "code",
   "execution_count": 26,
   "id": "687c3aef",
   "metadata": {},
   "outputs": [],
   "source": [
    "agg = data_cluster.assign(count = 1)\n",
    "agg = agg.rename(columns={'cluster': 'Cluster'})\n",
    "agg = agg.rename(columns={'RACACOR': 'Raça'})\n",
    "agg = agg.rename(columns={'CODOCUPMAE': 'Ocupação'})\n",
    "agg = agg.rename(columns={'ESCMAE': 'Escolaridade'})\n",
    "\n",
    "agg_rac = agg.groupby(['Cluster', 'Raça'])['count'].sum().unstack().fillna(0)\n",
    "agg_ocu = agg.groupby(['Cluster', 'Ocupação'])['count'].sum().unstack().fillna(0)\n",
    "agg_esc = agg.groupby(['Cluster', 'Escolaridade'])['count'].sum().unstack().fillna(0)"
   ]
  },
  {
   "cell_type": "code",
   "execution_count": 105,
   "id": "abc2784b",
   "metadata": {
    "scrolled": false
   },
   "outputs": [
    {
     "data": {
      "text/plain": [
       "(array([0, 1, 2]),\n",
       " [Text(0, 0, 'Branca'), Text(1, 0, 'Parda'), Text(2, 0, 'Preta')])"
      ]
     },
     "execution_count": 105,
     "metadata": {},
     "output_type": "execute_result"
    },
    {
     "data": {
      "image/png": "[encoded data removed]",
      "text/plain": [
       "<Figure size 432x288 with 1 Axes>"
      ]
     },
     "metadata": {
      "needs_background": "light"
     },
     "output_type": "display_data"
    },
    {
     "data": {
      "image/png": "[encoded data removed]",
      "text/plain": [
       "<Figure size 432x288 with 1 Axes>"
      ]
     },
     "metadata": {
      "needs_background": "light"
     },
     "output_type": "display_data"
    },
    {
     "data": {
      "image/png": "[encoded data removed]",
      "text/plain": [
       "<Figure size 432x288 with 1 Axes>"
      ]
     },
     "metadata": {
      "needs_background": "light"
     },
     "output_type": "display_data"
    }
   ],
   "source": [
    "%matplotlib inline\n",
    "\n",
    "agg_rac.plot(kind='bar', stacked=True, colormap='Paired')\n",
    "plt.title('Cor de pele da gestante para cada cluster')\n",
    "plt.xticks(rotation=0, ha='center')\n",
    "\n",
    "agg_ocu.plot(kind='bar', stacked=True, colormap = 'Set2')\n",
    "plt.title('Ocupação da gestante para cada cluster')\n",
    "plt.xticks(rotation=0, ha='center')\n",
    "\n",
    "agg_esc.plot(kind='bar', stacked=True, colormap = 'Paired')\n",
    "plt.title('Escolaridade da gestante para cada cluster')\n",
    "plt.xticks(rotation=0, ha='center')"
   ]
  },
  {
   "cell_type": "code",
   "execution_count": 28,
   "id": "e93f1ac3",
   "metadata": {},
   "outputs": [],
   "source": [
    "agg = agg.rename(columns={'parto_prematuro': 'Prematuridade'})\n",
    "agg = agg.rename(columns={'CONSULTAS': 'Nª de consultas prenatal'})\n",
    "agg = agg.rename(columns={'MESPRENAT': 'Inicio do prenatal'})\n",
    "\n",
    "agg_apgar = agg.groupby(['Cluster', 'APGAR'])['count'].sum().unstack().fillna(0)\n",
    "agg_prema = agg.groupby(['Cluster', 'Prematuridade'])['count'].sum().unstack().fillna(0)\n",
    "agg_consult = agg.groupby(['Cluster', 'Nª de consultas prenatal'])['count'].sum().unstack().fillna(0)\n",
    "agg_mespren = agg.groupby(['Cluster', 'Inicio do prenatal'])['count'].sum().unstack().fillna(0)"
   ]
  },
  {
   "cell_type": "code",
   "execution_count": 29,
   "id": "428e1549",
   "metadata": {
    "scrolled": false
   },
   "outputs": [
    {
     "data": {
      "text/plain": [
       "(array([0, 1, 2, 3]),\n",
       " [Text(0, 0, '0'), Text(1, 0, '1'), Text(2, 0, '2'), Text(3, 0, '3')])"
      ]
     },
     "execution_count": 29,
     "metadata": {},
     "output_type": "execute_result"
    },
    {
     "data": {
      "image/png": "[encoded data removed]",
      "text/plain": [
       "<Figure size 432x288 with 1 Axes>"
      ]
     },
     "metadata": {
      "needs_background": "light"
     },
     "output_type": "display_data"
    },
    {
     "data": {
      "image/png": "[encoded data removed]",
      "text/plain": [
       "<Figure size 432x288 with 1 Axes>"
      ]
     },
     "metadata": {
      "needs_background": "light"
     },
     "output_type": "display_data"
    },
    {
     "data": {
      "image/png": "[encoded data removed]",
      "text/plain": [
       "<Figure size 432x288 with 1 Axes>"
      ]
     },
     "metadata": {
      "needs_background": "light"
     },
     "output_type": "display_data"
    },
    {
     "data": {
      "image/png": "[encoded data removed]",
      "text/plain": [
       "<Figure size 432x288 with 1 Axes>"
      ]
     },
     "metadata": {
      "needs_background": "light"
     },
     "output_type": "display_data"
    }
   ],
   "source": [
    "agg_apgar.plot(kind='bar', stacked=True, colormap='Paired')\n",
    "plt.title('')\n",
    "plt.xticks(rotation=0, ha='center')\n",
    "\n",
    "agg_prema.plot(kind='bar', stacked=True, colormap='Paired')\n",
    "plt.title('')\n",
    "plt.xticks(rotation=0, ha='center')\n",
    "\n",
    "agg_consult.plot(kind='bar', stacked=True, colormap = 'Set2')\n",
    "plt.title('')\n",
    "plt.xticks(rotation=0, ha='center')\n",
    "\n",
    "agg_mespren.plot(kind='bar', stacked=True, colormap = 'Paired')\n",
    "plt.title('')\n",
    "plt.xticks(rotation=0, ha='center')"
   ]
  },
  {
   "cell_type": "code",
   "execution_count": null,
   "id": "68d4800b",
   "metadata": {},
   "outputs": [],
   "source": [
    "agg_apgar"
   ]
  },
  {
   "cell_type": "code",
   "execution_count": null,
   "id": "7cbbc606",
   "metadata": {
    "scrolled": false
   },
   "outputs": [],
   "source": [
    "print(np.array(agg_apgar)[0,]/np.array(agg_apgar)[0,].sum())\n",
    "print(np.array(agg_apgar)[1,]/np.array(agg_apgar)[1,].sum())\n",
    "print(np.array(agg_apgar)[2,]/np.array(agg_apgar)[2,].sum())\n",
    "print(np.array(agg_apgar)[3,]/np.array(agg_apgar)[3,].sum())"
   ]
  },
  {
   "cell_type": "code",
   "execution_count": null,
   "id": "3225ff9d",
   "metadata": {},
   "outputs": [],
   "source": [
    "agg_prema"
   ]
  },
  {
   "cell_type": "code",
   "execution_count": null,
   "id": "8b559131",
   "metadata": {},
   "outputs": [],
   "source": [
    "print(np.array(agg_prema)[0,]/np.array(agg_prema)[0,].sum())\n",
    "print(np.array(agg_prema)[1,]/np.array(agg_prema)[1,].sum())\n",
    "print(np.array(agg_prema)[2,]/np.array(agg_prema)[2,].sum())\n",
    "print(np.array(agg_prema)[3,]/np.array(agg_prema)[3,].sum())"
   ]
  },
  {
   "cell_type": "markdown",
   "id": "bf04ca4b",
   "metadata": {},
   "source": [
    "### Cluster 0"
   ]
  },
  {
   "cell_type": "code",
   "execution_count": 33,
   "id": "22f10a5f",
   "metadata": {
    "scrolled": true
   },
   "outputs": [
    {
     "name": "stdout",
     "output_type": "stream",
     "text": [
      "APGAR: \n",
      "\n",
      " Normal          1309\n",
      "Preocupante      122\n",
      "Problematico      11\n",
      "Name: APGAR, dtype: int64\n",
      "\n",
      "Prematuridade: \n",
      "\n",
      " Normal       1241\n",
      "Indicio       106\n",
      "Prematuro      95\n",
      "Name: parto_prematuro, dtype: int64\n",
      "\n",
      "Numero de consultas no prenatal: \n",
      "\n",
      " Ideal    1189\n",
      "Ok        202\n",
      "Pouco      51\n",
      "Name: CONSULTAS, dtype: int64\n",
      "\n",
      "Inicio do acompanhamento prenatal: \n",
      "\n",
      " Segundo mes     604\n",
      "Atraso          519\n",
      "Primeiro mes    311\n",
      "Name: MESPRENAT, dtype: int64\n"
     ]
    }
   ],
   "source": [
    "cluster_0 = data_cluster[data_cluster['cluster'] == 0]\n",
    "\n",
    "description1 = cluster_0['APGAR'].value_counts()\n",
    "description2 = cluster_0['parto_prematuro'].value_counts()\n",
    "description3 = cluster_0['CONSULTAS'].value_counts()\n",
    "description4 = cluster_0['MESPRENAT'].value_counts()\n",
    "\n",
    "print(\"APGAR: \\n\\n\",description1)\n",
    "print(\"\\nPrematuridade: \\n\\n\",description2)\n",
    "print(\"\\nNumero de consultas no prenatal: \\n\\n\",description3)\n",
    "print(\"\\nInicio do acompanhamento prenatal: \\n\\n\",description4)"
   ]
  },
  {
   "cell_type": "markdown",
   "id": "1255eae6",
   "metadata": {},
   "source": [
    "### Cluster 1"
   ]
  },
  {
   "cell_type": "code",
   "execution_count": 34,
   "id": "07d84e07",
   "metadata": {
    "scrolled": true
   },
   "outputs": [
    {
     "name": "stdout",
     "output_type": "stream",
     "text": [
      "APGAR: \n",
      "\n",
      " Normal          537\n",
      "Preocupante      22\n",
      "Problematico      3\n",
      "Name: APGAR, dtype: int64\n",
      "\n",
      "Prematuridade: \n",
      "\n",
      " Normal       471\n",
      "Prematuro     54\n",
      "Indicio       37\n",
      "Name: parto_prematuro, dtype: int64\n",
      "\n",
      "Numero de consultas no prenatal: \n",
      "\n",
      " Ideal    514\n",
      "Ok        40\n",
      "Pouco      8\n",
      "Name: CONSULTAS, dtype: int64\n",
      "\n",
      "Inicio do acompanhamento prenatal: \n",
      "\n",
      " Primeiro mes    339\n",
      "Segundo mes     173\n",
      "Atraso           50\n",
      "Name: MESPRENAT, dtype: int64\n"
     ]
    }
   ],
   "source": [
    "cluster_1 = data_cluster[data_cluster['cluster'] == 1]\n",
    "\n",
    "description1 = cluster_1['APGAR'].value_counts()\n",
    "description2 = cluster_1['parto_prematuro'].value_counts()\n",
    "description3 = cluster_1['CONSULTAS'].value_counts()\n",
    "description4 = cluster_1['MESPRENAT'].value_counts()\n",
    "\n",
    "print(\"APGAR: \\n\\n\",description1)\n",
    "print(\"\\nPrematuridade: \\n\\n\",description2)\n",
    "print(\"\\nNumero de consultas no prenatal: \\n\\n\",description3)\n",
    "print(\"\\nInicio do acompanhamento prenatal: \\n\\n\",description4)"
   ]
  },
  {
   "cell_type": "markdown",
   "id": "f60c1519",
   "metadata": {},
   "source": [
    "### Cluster 2"
   ]
  },
  {
   "cell_type": "code",
   "execution_count": 36,
   "id": "07e1ebde",
   "metadata": {
    "scrolled": true
   },
   "outputs": [
    {
     "name": "stdout",
     "output_type": "stream",
     "text": [
      "APGAR: \n",
      "\n",
      " Normal          465\n",
      "Preocupante      30\n",
      "Problematico      1\n",
      "Name: APGAR, dtype: int64\n",
      "\n",
      "Prematuridade: \n",
      "\n",
      " Normal       427\n",
      "Indicio       40\n",
      "Prematuro     29\n",
      "Name: parto_prematuro, dtype: int64\n",
      "\n",
      "Numero de consultas no prenatal: \n",
      "\n",
      " Ideal    438\n",
      "Ok        54\n",
      "Pouco      4\n",
      "Name: CONSULTAS, dtype: int64\n",
      "\n",
      "Inicio do acompanhamento prenatal: \n",
      "\n",
      " Segundo mes     211\n",
      "Primeiro mes    206\n",
      "Atraso           79\n",
      "Name: MESPRENAT, dtype: int64\n"
     ]
    }
   ],
   "source": [
    "cluster_2 = data_cluster[data_cluster['cluster'] == 2]\n",
    "\n",
    "description1 = cluster_2['APGAR'].value_counts()\n",
    "description2 = cluster_2['parto_prematuro'].value_counts()\n",
    "description3 = cluster_2['CONSULTAS'].value_counts()\n",
    "description4 = cluster_2['MESPRENAT'].value_counts()\n",
    "\n",
    "print(\"APGAR: \\n\\n\",description1)\n",
    "print(\"\\nPrematuridade: \\n\\n\",description2)\n",
    "print(\"\\nNumero de consultas no prenatal: \\n\\n\",description3)\n",
    "print(\"\\nInicio do acompanhamento prenatal: \\n\\n\",description4)"
   ]
  },
  {
   "cell_type": "markdown",
   "id": "7462a56e",
   "metadata": {},
   "source": [
    "### Cluster 3"
   ]
  },
  {
   "cell_type": "code",
   "execution_count": 35,
   "id": "fb2ef3c9",
   "metadata": {
    "scrolled": true
   },
   "outputs": [
    {
     "name": "stdout",
     "output_type": "stream",
     "text": [
      "APGAR: \n",
      "\n",
      " Normal          481\n",
      "Preocupante      18\n",
      "Problematico      1\n",
      "Name: APGAR, dtype: int64\n",
      "\n",
      "Prematuridade: \n",
      "\n",
      " Normal       429\n",
      "Indicio       36\n",
      "Prematuro     35\n",
      "Name: parto_prematuro, dtype: int64\n",
      "\n",
      "Numero de consultas no prenatal: \n",
      "\n",
      " Ideal    474\n",
      "Ok        21\n",
      "Pouco      5\n",
      "Name: CONSULTAS, dtype: int64\n",
      "\n",
      "Inicio do acompanhamento prenatal: \n",
      "\n",
      " Primeiro mes    290\n",
      "Segundo mes     179\n",
      "Atraso           31\n",
      "Name: MESPRENAT, dtype: int64\n"
     ]
    }
   ],
   "source": [
    "cluster_3 = data_cluster[data_cluster['cluster'] == 3]\n",
    "\n",
    "description1 = cluster_3['APGAR'].value_counts()\n",
    "description2 = cluster_3['parto_prematuro'].value_counts()\n",
    "description3 = cluster_3['CONSULTAS'].value_counts()\n",
    "description4 = cluster_3['MESPRENAT'].value_counts()\n",
    "\n",
    "print(\"APGAR: \\n\\n\",description1)\n",
    "print(\"\\nPrematuridade: \\n\\n\",description2)\n",
    "print(\"\\nNumero de consultas no prenatal: \\n\\n\",description3)\n",
    "print(\"\\nInicio do acompanhamento prenatal: \\n\\n\",description4)"
   ]
  },
  {
   "cell_type": "markdown",
   "id": "0f166ad6",
   "metadata": {},
   "source": [
    "## Variable association"
   ]
  },
  {
   "cell_type": "markdown",
   "id": "6eb364da",
   "metadata": {},
   "source": [
    "Cramér’s V nominal association test"
   ]
  },
  {
   "cell_type": "code",
   "execution_count": null,
   "id": "e371b1e4",
   "metadata": {},
   "outputs": [],
   "source": [
    "data_cluster['cluster'].value_counts()"
   ]
  },
  {
   "cell_type": "code",
   "execution_count": null,
   "id": "9e8691b9",
   "metadata": {},
   "outputs": [],
   "source": [
    "cols = ['cluster',\"RACACOR\", \"CODOCUPMAE\", \"ESCMAE\",\"MESPRENAT\",\"CONSULTAS\",\"parto_prematuro\",\"APGAR\",'IDANOMAL']\n",
    "corrM = np.zeros((len(cols),len(cols)))\n",
    "# there's probably a nice pandas way to do this\n",
    "for col1, col2 in itertools.combinations(cols, 2):\n",
    "    idx1, idx2 = cols.index(col1), cols.index(col2)\n",
    "    corrM[idx1, idx2] = cramers_corrected_stat(pd.crosstab(data_cluster[col1], data_cluster[col2]))\n",
    "    corrM[idx2, idx1] = corrM[idx1, idx2]"
   ]
  },
  {
   "cell_type": "code",
   "execution_count": null,
   "id": "096075c4",
   "metadata": {},
   "outputs": [],
   "source": [
    "corr = pd.DataFrame(corrM, index=cols, columns=cols)\n",
    "fig, ax = plt.subplots(figsize=(7, 6))\n",
    "ax = sns.heatmap(corr, annot=True, ax=ax); ax.set_title(\"Cramer V association between variables\")\n",
    "ax\n",
    "\n",
    "plt.show()"
   ]
  },
  {
   "cell_type": "code",
   "execution_count": null,
   "id": "32418f71",
   "metadata": {},
   "outputs": [],
   "source": [
    "corr = pd.DataFrame(corrM, index=cols, columns=cols)\n",
    "fig, ax = plt.subplots(figsize=(7, 6))\n",
    "ax = sns.heatmap(corr, annot=True, ax=ax); ax.set_title(\"Cramer V association between variables\")\n",
    "ax\n",
    "\n",
    "plt.show()"
   ]
  }
 ],
 "metadata": {
  "kernelspec": {
   "display_name": "Python 3 (ipykernel)",
   "language": "python",
   "name": "python3"
  },
  "language_info": {
   "codemirror_mode": {
    "name": "ipython",
    "version": 3
   },
   "file_extension": ".py",
   "mimetype": "text/x-python",
   "name": "python",
   "nbconvert_exporter": "python",
   "pygments_lexer": "ipython3",
   "version": "3.9.5"
  }
 },
 "nbformat": 4,
 "nbformat_minor": 5
}

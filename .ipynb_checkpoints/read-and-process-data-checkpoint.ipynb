{
 "cells": [
  {
   "cell_type": "markdown",
   "id": "dce9cb94",
   "metadata": {},
   "source": [
    "### Load data & packages"
   ]
  },
  {
   "cell_type": "markdown",
   "id": "f062766c",
   "metadata": {},
   "source": [
    "### Packages"
   ]
  },
  {
   "cell_type": "code",
   "execution_count": 43,
   "id": "654959da",
   "metadata": {},
   "outputs": [],
   "source": [
    "import numpy as np\n",
    "import pandas as pd\n",
    "import seaborn"
   ]
  },
  {
   "cell_type": "markdown",
   "id": "bf6eddbf",
   "metadata": {},
   "source": [
    "### Data"
   ]
  },
  {
   "cell_type": "code",
   "execution_count": 66,
   "id": "5e2cc827",
   "metadata": {
    "scrolled": true
   },
   "outputs": [],
   "source": [
    "# raw data\n",
    "#path2019 = \"~/Documents/UFABC/Disciplinas/Mineração de Dados/Dados para o Projeto/SINASC_2015-2019/ETLSINASC.DNRES_SP_2019_t.csv\"\n",
    "#path2018 = \"~/Documents/UFABC/Disciplinas/Mineração de Dados/Dados para o Projeto/SINASC_2015-2019/ETLSINASC.DNRES_SP_2018_t.csv\"\n",
    "#path2017 = \"~/Documents/UFABC/Disciplinas/Mineração de Dados/Dados para o Projeto/SINASC_2015-2019/ETLSINASC.DNRES_SP_2017_t.csv\"\n",
    "#path2016 = \"~/Documents/UFABC/Disciplinas/Mineração de Dados/Dados para o Projeto/SINASC_2015-2019/ETLSINASC.DNRES_SP_2016_t.csv\"\n",
    "#path2015 = \"~/Documents/UFABC/Disciplinas/Mineração de Dados/Dados para o Projeto/SINASC_2015-2019/ETLSINASC.DNRES_SP_2019_t.csv\"\n",
    "\n",
    "# filtered data\n",
    "path2019 = \"~/Documents/jupyter-workplace/data-mining-assignment/filtered_data2019.csv\"\n",
    "path2018 = \"~/Documents/jupyter-workplace/data-mining-assignment/filtered_data2018.csv\"\n",
    "path2017 = \"~/Documents/jupyter-workplace/data-mining-assignment/filtered_data2017.csv\"\n",
    "path2016 = \"~/Documents/jupyter-workplace/data-mining-assignment/filtered_data2016.csv\"\n",
    "path2015 = \"~/Documents/jupyter-workplace/data-mining-assignment/filtered_data2015.csv\"\n",
    "\n",
    "data2019 = pd.read_csv(path2019, index_col=0)\n",
    "data2018 = pd.read_csv(path2018, index_col=0)\n",
    "data2017 = pd.read_csv(path2017, index_col=0)\n",
    "data2016 = pd.read_csv(path2016, index_col=0)\n",
    "data2015 = pd.read_csv(path2015, index_col=0)"
   ]
  },
  {
   "cell_type": "markdown",
   "id": "168febe6",
   "metadata": {},
   "source": [
    "## Filter"
   ]
  },
  {
   "cell_type": "markdown",
   "id": "01c5009b",
   "metadata": {},
   "source": [
    "### Filter variables"
   ]
  },
  {
   "cell_type": "code",
   "execution_count": null,
   "id": "40c74e03",
   "metadata": {
    "scrolled": true
   },
   "outputs": [],
   "source": [
    "# Idade Mae; Estado Civil; Escolaridade; Etnia/Cor; Municipio de Residencia; Local de nascimento; Ocupação\n",
    "perfil_materno = [\"IDADEMAE\",\"ESTCIVMAE\",\"ESCMAE\",\"RACACOR\",\"res_MUNNOME\",\"def_loc_nasc\",\"CODOCUPMAE\"]\n",
    "\n",
    "# Idade Gestacional; Consultas de Pre natal; Mês que iniciou o prenatal\n",
    "perfil_gest <- [\"GESTACAO\",\"CONSULTAS\",\"MESPRENAT\"]\n",
    "\n",
    "# APGAR; Peso ao nascimento; Anomalia congenita; prematuridade;\n",
    "perfil_nasc <- [\"APGAR1\",\"APGAR5\",\"PESO\",\"IDANOMAL\",\"parto_prematuro\"]\n",
    "\n",
    "filt <- perfil_materno+perfil_gest+perfil_nasc"
   ]
  },
  {
   "cell_type": "markdown",
   "id": "37c1e3c0",
   "metadata": {},
   "source": [
    "### Filter for sampling\n",
    "\n",
    "City == São Paulo\n",
    "\n",
    "Age = 17 < x < 50\n",
    "\n",
    "Anomalia == 2 [Não!]"
   ]
  },
  {
   "cell_type": "code",
   "execution_count": 67,
   "id": "3fb34e18",
   "metadata": {},
   "outputs": [],
   "source": [
    "import warnings\n",
    "warnings.filterwarnings('ignore')\n",
    "\n",
    "# criar uma função que filtre e junte os bancos de dados e retorne o dataframe!\n",
    "\n",
    "# filter são paulo!\n",
    "data2019_sp = data2019[data2019['res_MUNNOME'] == \"São Paulo\"]\n",
    "data2018_sp = data2018[data2018['res_MUNNOME'] == \"São Paulo\"]\n",
    "data2017_sp = data2017[data2017['res_MUNNOME'] == \"São Paulo\"]\n",
    "data2016_sp = data2016[data2016['res_MUNNOME'] == \"São Paulo\"]\n",
    "data2015_sp = data2015[data2015['res_MUNNOME'] == \"São Paulo\"]\n",
    "\n",
    "# filter age (17 < x < 50)\n",
    "data2019_sp = data2019_sp[(17 < data2019['IDADEMAE']) & (data2019['IDADEMAE'] < 50)]\n",
    "data2018_sp = data2018_sp[(17 < data2018['IDADEMAE']) & (data2018['IDADEMAE'] < 50)]\n",
    "data2017_sp = data2017_sp[(17 < data2017['IDADEMAE']) & (data2017['IDADEMAE'] < 50)]\n",
    "data2016_sp = data2016_sp[(17 < data2016['IDADEMAE']) & (data2016['IDADEMAE'] < 50)]\n",
    "data2015_sp = data2015_sp[(17 < data2015['IDADEMAE']) & (data2015['IDADEMAE'] < 50)]\n",
    "\n",
    "# filter no anomalies\n",
    "data2019_sp = data2019_sp[data2019['IDANOMAL'] == 2]\n",
    "data2018_sp = data2018_sp[data2018['IDANOMAL'] == 2]\n",
    "data2017_sp = data2017_sp[data2017['IDANOMAL'] == 2]\n",
    "data2016_sp = data2016_sp[data2016['IDANOMAL'] == 2]\n",
    "data2015_sp = data2015_sp[data2015['IDANOMAL'] == 2]\n",
    "\n",
    "# filter ocupation?"
   ]
  },
  {
   "cell_type": "markdown",
   "id": "bd1c3a1c",
   "metadata": {},
   "source": [
    "Checking the filtered data..."
   ]
  },
  {
   "cell_type": "code",
   "execution_count": 68,
   "id": "5b52239e",
   "metadata": {
    "scrolled": false
   },
   "outputs": [
    {
     "name": "stdout",
     "output_type": "stream",
     "text": [
      "2019\n",
      "\n",
      "\n",
      "Idade da mãe: \n",
      " count    149399.000000\n",
      "mean         29.111614\n",
      "std           6.421685\n",
      "min          18.000000\n",
      "25%          24.000000\n",
      "50%          29.000000\n",
      "75%          34.000000\n",
      "max          49.000000\n",
      "Name: IDADEMAE, dtype: float64 \n",
      "\n",
      "Municipio: \n",
      " count        149399\n",
      "unique            1\n",
      "top       São Paulo\n",
      "freq         149399\n",
      "Name: res_MUNNOME, dtype: object \n",
      "\n",
      "Anomalia: \n",
      " count    149399.0\n",
      "mean          2.0\n",
      "std           0.0\n",
      "min           2.0\n",
      "25%           2.0\n",
      "50%           2.0\n",
      "75%           2.0\n",
      "max           2.0\n",
      "Name: IDANOMAL, dtype: float64\n"
     ]
    }
   ],
   "source": [
    "print(\"2019\\n\\n\")\n",
    "\n",
    "print(\"Idade da mãe: \\n\",data2019_sp['IDADEMAE'].describe(),\"\\n\")\n",
    "print(\"Municipio: \\n\",data2019_sp['res_MUNNOME'].describe(),\"\\n\")\n",
    "print(\"Anomalia: \\n\",data2019_sp['IDANOMAL'].describe())"
   ]
  },
  {
   "cell_type": "code",
   "execution_count": 69,
   "id": "038465af",
   "metadata": {},
   "outputs": [
    {
     "name": "stdout",
     "output_type": "stream",
     "text": [
      "2018\n",
      "\n",
      "\n",
      "Idade da mãe: \n",
      " count    154498.000000\n",
      "mean         29.018505\n",
      "std           6.380069\n",
      "min          18.000000\n",
      "25%          24.000000\n",
      "50%          29.000000\n",
      "75%          34.000000\n",
      "max          49.000000\n",
      "Name: IDADEMAE, dtype: float64 \n",
      "\n",
      "Municipio: \n",
      " count        154498\n",
      "unique            1\n",
      "top       São Paulo\n",
      "freq         154498\n",
      "Name: res_MUNNOME, dtype: object \n",
      "\n",
      "Anomalia: \n",
      " count    154498.0\n",
      "mean          2.0\n",
      "std           0.0\n",
      "min           2.0\n",
      "25%           2.0\n",
      "50%           2.0\n",
      "75%           2.0\n",
      "max           2.0\n",
      "Name: IDANOMAL, dtype: float64\n"
     ]
    }
   ],
   "source": [
    "print(\"2018\\n\\n\")\n",
    "\n",
    "print(\"Idade da mãe: \\n\",data2018_sp['IDADEMAE'].describe(),\"\\n\")\n",
    "print(\"Municipio: \\n\",data2018_sp['res_MUNNOME'].describe(),\"\\n\")\n",
    "print(\"Anomalia: \\n\",data2018_sp['IDANOMAL'].describe())"
   ]
  },
  {
   "cell_type": "code",
   "execution_count": 70,
   "id": "e818eb5c",
   "metadata": {},
   "outputs": [
    {
     "name": "stdout",
     "output_type": "stream",
     "text": [
      "2017\n",
      "\n",
      "\n",
      "Idade da mãe: \n",
      " count    157228.000000\n",
      "mean         28.862397\n",
      "std           6.342752\n",
      "min          18.000000\n",
      "25%          24.000000\n",
      "50%          29.000000\n",
      "75%          34.000000\n",
      "max          49.000000\n",
      "Name: IDADEMAE, dtype: float64 \n",
      "\n",
      "Municipio: \n",
      " count        157228\n",
      "unique            1\n",
      "top       São Paulo\n",
      "freq         157228\n",
      "Name: res_MUNNOME, dtype: object \n",
      "\n",
      "Anomalia: \n",
      " count    157228.0\n",
      "mean          2.0\n",
      "std           0.0\n",
      "min           2.0\n",
      "25%           2.0\n",
      "50%           2.0\n",
      "75%           2.0\n",
      "max           2.0\n",
      "Name: IDANOMAL, dtype: float64\n"
     ]
    }
   ],
   "source": [
    "print(\"2017\\n\\n\")\n",
    "\n",
    "print(\"Idade da mãe: \\n\",data2017_sp['IDADEMAE'].describe(),\"\\n\")\n",
    "print(\"Municipio: \\n\",data2017_sp['res_MUNNOME'].describe(),\"\\n\")\n",
    "print(\"Anomalia: \\n\",data2017_sp['IDANOMAL'].describe())"
   ]
  },
  {
   "cell_type": "code",
   "execution_count": 71,
   "id": "dd3d64a8",
   "metadata": {},
   "outputs": [
    {
     "name": "stdout",
     "output_type": "stream",
     "text": [
      "2016\n",
      "\n",
      "\n",
      "Idade da mãe: \n",
      " count    154788.000000\n",
      "mean         28.697690\n",
      "std           6.305601\n",
      "min          18.000000\n",
      "25%          23.000000\n",
      "50%          29.000000\n",
      "75%          34.000000\n",
      "max          49.000000\n",
      "Name: IDADEMAE, dtype: float64 \n",
      "\n",
      "Municipio: \n",
      " count        154788\n",
      "unique            1\n",
      "top       São Paulo\n",
      "freq         154788\n",
      "Name: res_MUNNOME, dtype: object \n",
      "\n",
      "Anomalia: \n",
      " count    154788.0\n",
      "mean          2.0\n",
      "std           0.0\n",
      "min           2.0\n",
      "25%           2.0\n",
      "50%           2.0\n",
      "75%           2.0\n",
      "max           2.0\n",
      "Name: IDANOMAL, dtype: float64\n"
     ]
    }
   ],
   "source": [
    "print(\"2016\\n\\n\")\n",
    "\n",
    "print(\"Idade da mãe: \\n\",data2016_sp['IDADEMAE'].describe(),\"\\n\")\n",
    "print(\"Municipio: \\n\",data2016_sp['res_MUNNOME'].describe(),\"\\n\")\n",
    "print(\"Anomalia: \\n\",data2016_sp['IDANOMAL'].describe())"
   ]
  },
  {
   "cell_type": "code",
   "execution_count": 72,
   "id": "d85ad08b",
   "metadata": {},
   "outputs": [
    {
     "name": "stdout",
     "output_type": "stream",
     "text": [
      "2015\n",
      "\n",
      "\n",
      "Idade da mãe: \n",
      " count    149399.000000\n",
      "mean         29.111614\n",
      "std           6.421685\n",
      "min          18.000000\n",
      "25%          24.000000\n",
      "50%          29.000000\n",
      "75%          34.000000\n",
      "max          49.000000\n",
      "Name: IDADEMAE, dtype: float64 \n",
      "\n",
      "Municipio: \n",
      " count        149399\n",
      "unique            1\n",
      "top       São Paulo\n",
      "freq         149399\n",
      "Name: res_MUNNOME, dtype: object \n",
      "\n",
      "Anomalia: \n",
      " count    149399.0\n",
      "mean          2.0\n",
      "std           0.0\n",
      "min           2.0\n",
      "25%           2.0\n",
      "50%           2.0\n",
      "75%           2.0\n",
      "max           2.0\n",
      "Name: IDANOMAL, dtype: float64\n"
     ]
    }
   ],
   "source": [
    "print(\"2015\\n\\n\")\n",
    "\n",
    "print(\"Idade da mãe: \\n\",data2015_sp['IDADEMAE'].describe(),\"\\n\")\n",
    "print(\"Municipio: \\n\",data2015_sp['res_MUNNOME'].describe(),\"\\n\")\n",
    "print(\"Anomalia: \\n\",data2015_sp['IDANOMAL'].describe())"
   ]
  },
  {
   "cell_type": "markdown",
   "id": "b9cff5b9",
   "metadata": {},
   "source": [
    "## Process data"
   ]
  },
  {
   "cell_type": "markdown",
   "id": "07af5f55",
   "metadata": {},
   "source": [
    "### Binding years"
   ]
  },
  {
   "cell_type": "code",
   "execution_count": null,
   "id": "db0076d6",
   "metadata": {},
   "outputs": [],
   "source": [
    "# checking dimensions \n",
    "\n",
    "# how many "
   ]
  },
  {
   "cell_type": "code",
   "execution_count": null,
   "id": "b52aed22",
   "metadata": {},
   "outputs": [],
   "source": []
  },
  {
   "cell_type": "code",
   "execution_count": null,
   "id": "8798b9bb",
   "metadata": {},
   "outputs": [],
   "source": []
  }
 ],
 "metadata": {
  "kernelspec": {
   "display_name": "Python 3 (ipykernel)",
   "language": "python",
   "name": "python3"
  },
  "language_info": {
   "codemirror_mode": {
    "name": "ipython",
    "version": 3
   },
   "file_extension": ".py",
   "mimetype": "text/x-python",
   "name": "python",
   "nbconvert_exporter": "python",
   "pygments_lexer": "ipython3",
   "version": "3.9.5"
  }
 },
 "nbformat": 4,
 "nbformat_minor": 5
}

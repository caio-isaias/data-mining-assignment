{
 "cells": [
  {
   "cell_type": "markdown",
   "id": "f4ab81f6",
   "metadata": {},
   "source": [
    "### Load data & packages"
   ]
  },
  {
   "cell_type": "code",
   "execution_count": 1,
   "id": "8a2f989e",
   "metadata": {},
   "outputs": [],
   "source": [
    "import numpy as np\n",
    "import pandas as pd\n",
    "from pandas_profiling import ProfileReport"
   ]
  },
  {
   "cell_type": "code",
   "execution_count": 2,
   "id": "bdcd1cc8",
   "metadata": {},
   "outputs": [],
   "source": [
    "path = \"~/Documents/jupyter-workplace/data-mining-assignment/reformed_all_data.csv\"\n",
    "data = pd.read_csv(path, index_col=0)"
   ]
  },
  {
   "cell_type": "markdown",
   "id": "8af0170d",
   "metadata": {},
   "source": [
    "### Variables profile report"
   ]
  },
  {
   "cell_type": "code",
   "execution_count": 4,
   "id": "5a7f92c4",
   "metadata": {},
   "outputs": [
    {
     "data": {
      "application/vnd.jupyter.widget-view+json": {
       "model_id": "4ab8f8ecccd34e058304260c2231cac7",
       "version_major": 2,
       "version_minor": 0
      },
      "text/plain": [
       "Summarize dataset:   0%|          | 0/5 [00:00<?, ?it/s]"
      ]
     },
     "metadata": {},
     "output_type": "display_data"
    },
    {
     "data": {
      "application/vnd.jupyter.widget-view+json": {
       "model_id": "78159f91793f43599fe99a04c0d926a8",
       "version_major": 2,
       "version_minor": 0
      },
      "text/plain": [
       "Generate report structure:   0%|          | 0/1 [00:00<?, ?it/s]"
      ]
     },
     "metadata": {},
     "output_type": "display_data"
    },
    {
     "data": {
      "application/vnd.jupyter.widget-view+json": {
       "model_id": "457a86ac67de45bebfa4966ed4e371b7",
       "version_major": 2,
       "version_minor": 0
      },
      "text/plain": [
       "Render HTML:   0%|          | 0/1 [00:00<?, ?it/s]"
      ]
     },
     "metadata": {},
     "output_type": "display_data"
    },
    {
     "data": {
      "application/vnd.jupyter.widget-view+json": {
       "model_id": "db330c8140b24cdc81cb3c01d12e55bd",
       "version_major": 2,
       "version_minor": 0
      },
      "text/plain": [
       "Export report to file:   0%|          | 0/1 [00:00<?, ?it/s]"
      ]
     },
     "metadata": {},
     "output_type": "display_data"
    }
   ],
   "source": [
    "profile_variables = ProfileReport(data, title=\"Pandas Profiling Report - Variables description\", minimal=True)\n",
    "\n",
    "profile_variables.to_file(\"profile_variables.html\")"
   ]
  },
  {
   "cell_type": "markdown",
   "id": "b4a2a2aa",
   "metadata": {},
   "source": [
    "### Ethnics"
   ]
  },
  {
   "cell_type": "code",
   "execution_count": 5,
   "id": "5907b25c",
   "metadata": {
    "scrolled": true
   },
   "outputs": [
    {
     "data": {
      "application/vnd.jupyter.widget-view+json": {
       "model_id": "b25edbc5277c49288cd697b3081e74c4",
       "version_major": 2,
       "version_minor": 0
      },
      "text/plain": [
       "Summarize dataset:   0%|          | 0/5 [00:00<?, ?it/s]"
      ]
     },
     "metadata": {},
     "output_type": "display_data"
    },
    {
     "data": {
      "application/vnd.jupyter.widget-view+json": {
       "model_id": "8322b3aab2924765a23f4a694f78af79",
       "version_major": 2,
       "version_minor": 0
      },
      "text/plain": [
       "Generate report structure:   0%|          | 0/1 [00:00<?, ?it/s]"
      ]
     },
     "metadata": {},
     "output_type": "display_data"
    },
    {
     "data": {
      "application/vnd.jupyter.widget-view+json": {
       "model_id": "e49ece87022841459b313677530d96fd",
       "version_major": 2,
       "version_minor": 0
      },
      "text/plain": [
       "Render HTML:   0%|          | 0/1 [00:00<?, ?it/s]"
      ]
     },
     "metadata": {},
     "output_type": "display_data"
    },
    {
     "data": {
      "application/vnd.jupyter.widget-view+json": {
       "model_id": "ae800a257b8b4edb8c52e1bb814ba491",
       "version_major": 2,
       "version_minor": 0
      },
      "text/plain": [
       "Export report to file:   0%|          | 0/1 [00:00<?, ?it/s]"
      ]
     },
     "metadata": {},
     "output_type": "display_data"
    },
    {
     "data": {
      "application/vnd.jupyter.widget-view+json": {
       "model_id": "83619d9d15fd4d6c9c8edcb9ad984658",
       "version_major": 2,
       "version_minor": 0
      },
      "text/plain": [
       "Summarize dataset:   0%|          | 0/5 [00:00<?, ?it/s]"
      ]
     },
     "metadata": {},
     "output_type": "display_data"
    },
    {
     "data": {
      "application/vnd.jupyter.widget-view+json": {
       "model_id": "1440cab8b0174f39b48bceaebd4777c4",
       "version_major": 2,
       "version_minor": 0
      },
      "text/plain": [
       "Generate report structure:   0%|          | 0/1 [00:00<?, ?it/s]"
      ]
     },
     "metadata": {},
     "output_type": "display_data"
    },
    {
     "data": {
      "application/vnd.jupyter.widget-view+json": {
       "model_id": "d06f90f70bac4047991cf1c5b551af98",
       "version_major": 2,
       "version_minor": 0
      },
      "text/plain": [
       "Render HTML:   0%|          | 0/1 [00:00<?, ?it/s]"
      ]
     },
     "metadata": {},
     "output_type": "display_data"
    },
    {
     "data": {
      "application/vnd.jupyter.widget-view+json": {
       "model_id": "a906ff35161440d78410be6c0632f219",
       "version_major": 2,
       "version_minor": 0
      },
      "text/plain": [
       "Export report to file:   0%|          | 0/1 [00:00<?, ?it/s]"
      ]
     },
     "metadata": {},
     "output_type": "display_data"
    },
    {
     "data": {
      "application/vnd.jupyter.widget-view+json": {
       "model_id": "97a74468007f4bb6ade374a00fefd88a",
       "version_major": 2,
       "version_minor": 0
      },
      "text/plain": [
       "Summarize dataset:   0%|          | 0/5 [00:00<?, ?it/s]"
      ]
     },
     "metadata": {},
     "output_type": "display_data"
    },
    {
     "data": {
      "application/vnd.jupyter.widget-view+json": {
       "model_id": "5586866526b64a648dee0c9f5cd649cc",
       "version_major": 2,
       "version_minor": 0
      },
      "text/plain": [
       "Generate report structure:   0%|          | 0/1 [00:00<?, ?it/s]"
      ]
     },
     "metadata": {},
     "output_type": "display_data"
    },
    {
     "data": {
      "application/vnd.jupyter.widget-view+json": {
       "model_id": "198677d007af48d0a9aa975b4114d964",
       "version_major": 2,
       "version_minor": 0
      },
      "text/plain": [
       "Render HTML:   0%|          | 0/1 [00:00<?, ?it/s]"
      ]
     },
     "metadata": {},
     "output_type": "display_data"
    },
    {
     "data": {
      "application/vnd.jupyter.widget-view+json": {
       "model_id": "db8d582a52004da89bb7efdb249f5352",
       "version_major": 2,
       "version_minor": 0
      },
      "text/plain": [
       "Export report to file:   0%|          | 0/1 [00:00<?, ?it/s]"
      ]
     },
     "metadata": {},
     "output_type": "display_data"
    }
   ],
   "source": [
    "# separar por etnia\n",
    "\n",
    "# parda, preto, branco, indigena, amarelo\n",
    "\n",
    "data_branco = data[data['RACACOR'] == 'Branca']\n",
    "profile_variables = ProfileReport(data_branco, title=\"Pandas Profiling Report - Gestantes brancas\", minimal=True)\n",
    "profile_variables.to_file(\"gestantes-brancas.html\")\n",
    "\n",
    "data_preto = data[data['RACACOR'] == 'Preta']\n",
    "profile_variables = ProfileReport(data_preto, title=\"Pandas Profiling Report - Gestantes pretas\", minimal=True)\n",
    "profile_variables.to_file(\"gestantes-pretas.html\")\n",
    "\n",
    "data_pardo = data[data['RACACOR'] == 'Parda']\n",
    "profile_variables = ProfileReport(data_pardo, title=\"Pandas Profiling Report - Gestantes pardas\", minimal=True)\n",
    "profile_variables.to_file(\"gestantes-pardas.html\")"
   ]
  },
  {
   "cell_type": "markdown",
   "id": "d6055738",
   "metadata": {},
   "source": [
    "### Scolarity and Ethnics"
   ]
  },
  {
   "cell_type": "code",
   "execution_count": 4,
   "id": "64014f25",
   "metadata": {},
   "outputs": [
    {
     "data": {
      "application/vnd.jupyter.widget-view+json": {
       "model_id": "a15f321855c5496890837888caabf89a",
       "version_major": 2,
       "version_minor": 0
      },
      "text/plain": [
       "Summarize dataset:   0%|          | 0/5 [00:00<?, ?it/s]"
      ]
     },
     "metadata": {},
     "output_type": "display_data"
    },
    {
     "data": {
      "application/vnd.jupyter.widget-view+json": {
       "model_id": "8335eb127dbe4608833f7b9220e6acf0",
       "version_major": 2,
       "version_minor": 0
      },
      "text/plain": [
       "Generate report structure:   0%|          | 0/1 [00:00<?, ?it/s]"
      ]
     },
     "metadata": {},
     "output_type": "display_data"
    },
    {
     "data": {
      "application/vnd.jupyter.widget-view+json": {
       "model_id": "25a3c125fe8f4795b0bc427786abce2d",
       "version_major": 2,
       "version_minor": 0
      },
      "text/plain": [
       "Render HTML:   0%|          | 0/1 [00:00<?, ?it/s]"
      ]
     },
     "metadata": {},
     "output_type": "display_data"
    },
    {
     "data": {
      "application/vnd.jupyter.widget-view+json": {
       "model_id": "c0f5f1de900144438ecd660819914154",
       "version_major": 2,
       "version_minor": 0
      },
      "text/plain": [
       "Export report to file:   0%|          | 0/1 [00:00<?, ?it/s]"
      ]
     },
     "metadata": {},
     "output_type": "display_data"
    },
    {
     "data": {
      "application/vnd.jupyter.widget-view+json": {
       "model_id": "4abf36c4e1d849ae8602fce9ff986127",
       "version_major": 2,
       "version_minor": 0
      },
      "text/plain": [
       "Summarize dataset:   0%|          | 0/5 [00:00<?, ?it/s]"
      ]
     },
     "metadata": {},
     "output_type": "display_data"
    },
    {
     "data": {
      "application/vnd.jupyter.widget-view+json": {
       "model_id": "e5c913eef5a242eaa4086826aed75fe3",
       "version_major": 2,
       "version_minor": 0
      },
      "text/plain": [
       "Generate report structure:   0%|          | 0/1 [00:00<?, ?it/s]"
      ]
     },
     "metadata": {},
     "output_type": "display_data"
    },
    {
     "data": {
      "application/vnd.jupyter.widget-view+json": {
       "model_id": "52fdf6c2f35e4f7e8d272b5f4bfef45e",
       "version_major": 2,
       "version_minor": 0
      },
      "text/plain": [
       "Render HTML:   0%|          | 0/1 [00:00<?, ?it/s]"
      ]
     },
     "metadata": {},
     "output_type": "display_data"
    },
    {
     "data": {
      "application/vnd.jupyter.widget-view+json": {
       "model_id": "b01314e8b99a48e1bd1f33e695a6f05c",
       "version_major": 2,
       "version_minor": 0
      },
      "text/plain": [
       "Export report to file:   0%|          | 0/1 [00:00<?, ?it/s]"
      ]
     },
     "metadata": {},
     "output_type": "display_data"
    },
    {
     "data": {
      "application/vnd.jupyter.widget-view+json": {
       "model_id": "8f802add223345cd8feecd39fc4a6300",
       "version_major": 2,
       "version_minor": 0
      },
      "text/plain": [
       "Summarize dataset:   0%|          | 0/5 [00:00<?, ?it/s]"
      ]
     },
     "metadata": {},
     "output_type": "display_data"
    },
    {
     "data": {
      "application/vnd.jupyter.widget-view+json": {
       "model_id": "16405a63ff744f95a417ade4e1c8d871",
       "version_major": 2,
       "version_minor": 0
      },
      "text/plain": [
       "Generate report structure:   0%|          | 0/1 [00:00<?, ?it/s]"
      ]
     },
     "metadata": {},
     "output_type": "display_data"
    },
    {
     "data": {
      "application/vnd.jupyter.widget-view+json": {
       "model_id": "aacf049efa614253b42649d655d21715",
       "version_major": 2,
       "version_minor": 0
      },
      "text/plain": [
       "Render HTML:   0%|          | 0/1 [00:00<?, ?it/s]"
      ]
     },
     "metadata": {},
     "output_type": "display_data"
    },
    {
     "data": {
      "application/vnd.jupyter.widget-view+json": {
       "model_id": "fbc0bee755534b288ff9427b1c412bbc",
       "version_major": 2,
       "version_minor": 0
      },
      "text/plain": [
       "Export report to file:   0%|          | 0/1 [00:00<?, ?it/s]"
      ]
     },
     "metadata": {},
     "output_type": "display_data"
    },
    {
     "data": {
      "application/vnd.jupyter.widget-view+json": {
       "model_id": "2dd537dcbd104251af1a424eae280fa4",
       "version_major": 2,
       "version_minor": 0
      },
      "text/plain": [
       "Summarize dataset:   0%|          | 0/5 [00:00<?, ?it/s]"
      ]
     },
     "metadata": {},
     "output_type": "display_data"
    },
    {
     "data": {
      "application/vnd.jupyter.widget-view+json": {
       "model_id": "c8a897c255ac4e45a37b3399e4ca2fe5",
       "version_major": 2,
       "version_minor": 0
      },
      "text/plain": [
       "Generate report structure:   0%|          | 0/1 [00:00<?, ?it/s]"
      ]
     },
     "metadata": {},
     "output_type": "display_data"
    },
    {
     "data": {
      "application/vnd.jupyter.widget-view+json": {
       "model_id": "2d5cf322e2444f11a1f8c74206ebb901",
       "version_major": 2,
       "version_minor": 0
      },
      "text/plain": [
       "Render HTML:   0%|          | 0/1 [00:00<?, ?it/s]"
      ]
     },
     "metadata": {},
     "output_type": "display_data"
    },
    {
     "data": {
      "application/vnd.jupyter.widget-view+json": {
       "model_id": "2f3c2325861e4e8fbb4b5b92721bc930",
       "version_major": 2,
       "version_minor": 0
      },
      "text/plain": [
       "Export report to file:   0%|          | 0/1 [00:00<?, ?it/s]"
      ]
     },
     "metadata": {},
     "output_type": "display_data"
    },
    {
     "data": {
      "application/vnd.jupyter.widget-view+json": {
       "model_id": "43e58415656a439c904715a78711d728",
       "version_major": 2,
       "version_minor": 0
      },
      "text/plain": [
       "Summarize dataset:   0%|          | 0/5 [00:00<?, ?it/s]"
      ]
     },
     "metadata": {},
     "output_type": "display_data"
    },
    {
     "data": {
      "application/vnd.jupyter.widget-view+json": {
       "model_id": "5502349b555d40bb8552e45c11db516b",
       "version_major": 2,
       "version_minor": 0
      },
      "text/plain": [
       "Generate report structure:   0%|          | 0/1 [00:00<?, ?it/s]"
      ]
     },
     "metadata": {},
     "output_type": "display_data"
    },
    {
     "data": {
      "application/vnd.jupyter.widget-view+json": {
       "model_id": "90f7571150d1462f9a9753ba4b4d1274",
       "version_major": 2,
       "version_minor": 0
      },
      "text/plain": [
       "Render HTML:   0%|          | 0/1 [00:00<?, ?it/s]"
      ]
     },
     "metadata": {},
     "output_type": "display_data"
    },
    {
     "data": {
      "application/vnd.jupyter.widget-view+json": {
       "model_id": "f239dec7d10c4d0b8fea48b8fb0bff2f",
       "version_major": 2,
       "version_minor": 0
      },
      "text/plain": [
       "Export report to file:   0%|          | 0/1 [00:00<?, ?it/s]"
      ]
     },
     "metadata": {},
     "output_type": "display_data"
    },
    {
     "data": {
      "application/vnd.jupyter.widget-view+json": {
       "model_id": "1248237e9ff841acad2c7299aaeddc90",
       "version_major": 2,
       "version_minor": 0
      },
      "text/plain": [
       "Summarize dataset:   0%|          | 0/5 [00:00<?, ?it/s]"
      ]
     },
     "metadata": {},
     "output_type": "display_data"
    },
    {
     "data": {
      "application/vnd.jupyter.widget-view+json": {
       "model_id": "a1047b5beae5474398abf4cd8b4c17a1",
       "version_major": 2,
       "version_minor": 0
      },
      "text/plain": [
       "Generate report structure:   0%|          | 0/1 [00:00<?, ?it/s]"
      ]
     },
     "metadata": {},
     "output_type": "display_data"
    },
    {
     "data": {
      "application/vnd.jupyter.widget-view+json": {
       "model_id": "c87335e4ca844fdfb5b3ee2dbef05b94",
       "version_major": 2,
       "version_minor": 0
      },
      "text/plain": [
       "Render HTML:   0%|          | 0/1 [00:00<?, ?it/s]"
      ]
     },
     "metadata": {},
     "output_type": "display_data"
    },
    {
     "data": {
      "application/vnd.jupyter.widget-view+json": {
       "model_id": "09a8b02595f64e03ba8320ac8736b6f1",
       "version_major": 2,
       "version_minor": 0
      },
      "text/plain": [
       "Export report to file:   0%|          | 0/1 [00:00<?, ?it/s]"
      ]
     },
     "metadata": {},
     "output_type": "display_data"
    }
   ],
   "source": [
    "# separar por escolaridade + etnia\n",
    "\n",
    "\n",
    "# mais escolaridade\n",
    "data_branco = data[(data['RACACOR'] == 'Branca') & (data['ESCMAE'] == '12 e mais')]\n",
    "profile_variables = ProfileReport(data_branco, title=\"Pandas Profiling Report - Gestantes brancas e mais escolarizadas\", minimal=True)\n",
    "profile_variables.to_file(\"gestantes-brancas-mais-esc.html\")\n",
    "\n",
    "data_preto = data[(data['RACACOR'] == 'Preta') & (data['ESCMAE'] == '12 e mais') & (data['ESCMAE'] != '8 a 11 anos')]\n",
    "profile_variables = ProfileReport(data_preto, title=\"Pandas Profiling Report - Gestantes pretas e mais escolarizadas\", minimal=True)\n",
    "profile_variables.to_file(\"gestantes-pretas-mais-esc.html\")\n",
    "\n",
    "data_pardo = data[(data['RACACOR'] == 'Parda') & (data['ESCMAE'] == '12 e mais') & (data['ESCMAE'] != '8 a 11 anos')]\n",
    "profile_variables = ProfileReport(data_pardo, title=\"Pandas Profiling Report - Gestantes pardas e mais escolarizadas\", minimal=True)\n",
    "profile_variables.to_file(\"gestantes-pardas-mais-esc.html\")\n",
    "\n",
    "# menos escolaridade\n",
    "data_branco = data[(data['RACACOR'] == 'Branca') & (data['ESCMAE'] != '12 e mais')]\n",
    "profile_variables = ProfileReport(data_branco, title=\"Pandas Profiling Report - Gestantes brancas e menos escolarizadas\", minimal=True)\n",
    "profile_variables.to_file(\"gestantes-brancas-menos-esc.html\")\n",
    "\n",
    "data_preto = data[(data['RACACOR'] == 'Preta') & (data['ESCMAE'] != '12 e mais') & (data['ESCMAE'] != '8 a 11 anos')]\n",
    "profile_variables = ProfileReport(data_preto, title=\"Pandas Profiling Report - Gestantes pretas e menos escolarizadas\", minimal=True)\n",
    "profile_variables.to_file(\"gestantes-pretas-menos-esc.html\")\n",
    "\n",
    "data_pardo = data[(data['RACACOR'] == 'Parda') & (data['ESCMAE'] != '12 e mais') & (data['ESCMAE'] != '8 a 11 anos')]\n",
    "profile_variables = ProfileReport(data_pardo, title=\"Pandas Profiling Report - Gestantes pardas e menos escolarizadas\", minimal=True)\n",
    "profile_variables.to_file(\"gestantes-pardas-menos-esc.html\")"
   ]
  },
  {
   "cell_type": "markdown",
   "id": "a146fc11",
   "metadata": {},
   "source": [
    "### Birth Outcome"
   ]
  },
  {
   "cell_type": "code",
   "execution_count": 3,
   "id": "e1173df9",
   "metadata": {},
   "outputs": [
    {
     "data": {
      "application/vnd.jupyter.widget-view+json": {
       "model_id": "acb3173312044c44813fa1ba5ba06ea5",
       "version_major": 2,
       "version_minor": 0
      },
      "text/plain": [
       "Summarize dataset:   0%|          | 0/5 [00:00<?, ?it/s]"
      ]
     },
     "metadata": {},
     "output_type": "display_data"
    },
    {
     "data": {
      "application/vnd.jupyter.widget-view+json": {
       "model_id": "18fb5120f8624274960179711ae3dc87",
       "version_major": 2,
       "version_minor": 0
      },
      "text/plain": [
       "Generate report structure:   0%|          | 0/1 [00:00<?, ?it/s]"
      ]
     },
     "metadata": {},
     "output_type": "display_data"
    },
    {
     "data": {
      "application/vnd.jupyter.widget-view+json": {
       "model_id": "37b08357eeb54b15aae6b4a9bd86337e",
       "version_major": 2,
       "version_minor": 0
      },
      "text/plain": [
       "Render HTML:   0%|          | 0/1 [00:00<?, ?it/s]"
      ]
     },
     "metadata": {},
     "output_type": "display_data"
    },
    {
     "data": {
      "application/vnd.jupyter.widget-view+json": {
       "model_id": "68f23cca0e4c49e49f95ec61b39a9828",
       "version_major": 2,
       "version_minor": 0
      },
      "text/plain": [
       "Export report to file:   0%|          | 0/1 [00:00<?, ?it/s]"
      ]
     },
     "metadata": {},
     "output_type": "display_data"
    }
   ],
   "source": [
    "# desfecho negativo\n",
    "\n",
    "data_desf = data[(data['parto_prematuro'] != 'Normal') & \n",
    "                 (data['APGAR'] != 'Normal')]\n",
    "\n",
    "profile_variables_ad = ProfileReport(data_desf, title=\"Pandas Profiling Report - Desfecho negativo\", minimal=True)\n",
    "profile_variables_ad.to_file(\"profile_negative_outcome.html\")"
   ]
  },
  {
   "cell_type": "code",
   "execution_count": null,
   "id": "ebaebcf0",
   "metadata": {},
   "outputs": [],
   "source": []
  }
 ],
 "metadata": {
  "kernelspec": {
   "display_name": "Python 3 (ipykernel)",
   "language": "python",
   "name": "python3"
  },
  "language_info": {
   "codemirror_mode": {
    "name": "ipython",
    "version": 3
   },
   "file_extension": ".py",
   "mimetype": "text/x-python",
   "name": "python",
   "nbconvert_exporter": "python",
   "pygments_lexer": "ipython3",
   "version": "3.9.5"
  }
 },
 "nbformat": 4,
 "nbformat_minor": 5
}
